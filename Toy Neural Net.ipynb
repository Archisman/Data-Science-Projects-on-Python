{
 "cells": [
  {
   "cell_type": "code",
   "execution_count": 14,
   "metadata": {
    "collapsed": true
   },
   "outputs": [],
   "source": [
    "import numpy as np\n",
    "#SOURCE LINK\n",
    "#http://iamtrask.github.io/2015/07/12/basic-python-network/"
   ]
  },
  {
   "cell_type": "code",
   "execution_count": 15,
   "metadata": {
    "collapsed": true
   },
   "outputs": [],
   "source": [
    "X = np.array([ [0,0,1],[0,1,1],[1,0,1],[1,1,1] ])\n",
    "y = np.array([[0,1,1,0]]).T"
   ]
  },
  {
   "cell_type": "code",
   "execution_count": 16,
   "metadata": {
    "collapsed": false
   },
   "outputs": [
    {
     "data": {
      "text/plain": [
       "array([[0, 0, 1],\n",
       "       [0, 1, 1],\n",
       "       [1, 0, 1],\n",
       "       [1, 1, 1]])"
      ]
     },
     "execution_count": 16,
     "metadata": {},
     "output_type": "execute_result"
    }
   ],
   "source": [
    "X"
   ]
  },
  {
   "cell_type": "code",
   "execution_count": 17,
   "metadata": {
    "collapsed": false
   },
   "outputs": [
    {
     "data": {
      "text/plain": [
       "array([[0],\n",
       "       [1],\n",
       "       [1],\n",
       "       [0]])"
      ]
     },
     "execution_count": 17,
     "metadata": {},
     "output_type": "execute_result"
    }
   ],
   "source": [
    "y"
   ]
  },
  {
   "cell_type": "code",
   "execution_count": 18,
   "metadata": {
    "collapsed": true
   },
   "outputs": [],
   "source": [
    "syn0 = 2*np.random.random((3,4)) - 1\n",
    "syn1 = 2*np.random.random((4,1)) - 1"
   ]
  },
  {
   "cell_type": "code",
   "execution_count": 19,
   "metadata": {
    "collapsed": false
   },
   "outputs": [
    {
     "data": {
      "text/plain": [
       "array([[ 0.88116503,  0.57433362, -0.97481507, -0.91989851],\n",
       "       [-0.08974189, -0.35380051,  0.0307839 ,  0.15898753],\n",
       "       [-0.84859725, -0.41311762,  0.12970488, -0.89236548]])"
      ]
     },
     "execution_count": 19,
     "metadata": {},
     "output_type": "execute_result"
    }
   ],
   "source": [
    "syn0"
   ]
  },
  {
   "cell_type": "code",
   "execution_count": 20,
   "metadata": {
    "collapsed": false
   },
   "outputs": [
    {
     "data": {
      "text/plain": [
       "array([[-0.15428769],\n",
       "       [-0.59276094],\n",
       "       [ 0.51634311],\n",
       "       [ 0.66733261]])"
      ]
     },
     "execution_count": 20,
     "metadata": {},
     "output_type": "execute_result"
    }
   ],
   "source": [
    "syn1"
   ]
  },
  {
   "cell_type": "code",
   "execution_count": 21,
   "metadata": {
    "collapsed": true
   },
   "outputs": [],
   "source": [
    "for j in xrange(60000):\n",
    "    l1 = 1/(1+np.exp(-(np.dot(X,syn0))))\n",
    "    l2 = 1/(1+np.exp(-(np.dot(l1,syn1))))\n",
    "    l2_delta = (y - l2)*(l2*(1-l2))\n",
    "    l1_delta = l2_delta.dot(syn1.T) * (l1 * (1-l1))\n",
    "    syn1 += l1.T.dot(l2_delta)\n",
    "    syn0 += X.T.dot(l1_delta)"
   ]
  },
  {
   "cell_type": "code",
   "execution_count": 22,
   "metadata": {
    "collapsed": false
   },
   "outputs": [
    {
     "data": {
      "text/plain": [
       "array([[  7.81346218],\n",
       "       [ -0.81727673],\n",
       "       [ -6.16952588],\n",
       "       [ 12.74523895]])"
      ]
     },
     "execution_count": 22,
     "metadata": {},
     "output_type": "execute_result"
    }
   ],
   "source": [
    "#DONE ALL SET\n",
    "syn1"
   ]
  },
  {
   "cell_type": "code",
   "execution_count": 23,
   "metadata": {
    "collapsed": false
   },
   "outputs": [
    {
     "data": {
      "text/plain": [
       "array([[ 5.0869616 , -0.66577911, -4.39111791, -6.87113718],\n",
       "       [-5.2076644 ,  0.87358703,  4.52683048,  6.80874967],\n",
       "       [-2.95874959,  0.38187757,  2.63643778, -3.54917295]])"
      ]
     },
     "execution_count": 23,
     "metadata": {},
     "output_type": "execute_result"
    }
   ],
   "source": [
    "syn0"
   ]
  },
  {
   "cell_type": "code",
   "execution_count": 21,
   "metadata": {
    "collapsed": false
   },
   "outputs": [
    {
     "name": "stdout",
     "output_type": "stream",
     "text": [
      "Output After Training:\n",
      "[[ 0.00966449]\n",
      " [ 0.00786506]\n",
      " [ 0.99358898]\n",
      " [ 0.99211957]]\n"
     ]
    }
   ],
   "source": [
    "#2 Layer Neural Net\n",
    "#DETAILED CODE - A Simple Neural Net with Backpropagation\n",
    "import numpy as np\n",
    "\n",
    "# sigmoid function\n",
    "\n",
    "def nonlin(x,deriv=False):\n",
    "    if(deriv==True):\n",
    "        return x*(1-x)\n",
    "    return 1/(1+np.exp(-x))\n",
    "\n",
    "#the math cuts out.. checked it on paper\n",
    " \n",
    "# input dataset\n",
    "X = np.array([  [0,0,1],[0,1,1],[1,0,1],[1,1,1] ])\n",
    "\n",
    "# output dataset           \n",
    "y = np.array([[0,0,1,1]]).T\n",
    "\n",
    "# seed random numbers to make calculation\n",
    "\n",
    "# deterministic (just a good practice)\n",
    "np.random.seed(1)\n",
    "\n",
    "# initialize weights randomly with mean 0\n",
    "syn0 = 2*np.random.random((3,1)) - 1\n",
    "\n",
    "for iter in xrange(10000):\n",
    "    # forward propagation\n",
    "    l0 = X\n",
    "    l1 = nonlin(np.dot(l0,syn0))\n",
    "    # how much did we miss?\n",
    "    l1_error = y - l1\n",
    "    # multiply how much we missed by the\n",
    "    # slope of the sigmoid at the values in l1\n",
    "    l1_delta = l1_error * nonlin(l1,True)\n",
    "    # update weights\n",
    "    syn0 += np.dot(l0.T,l1_delta)\n",
    "\n",
    "print \"Output After Training:\"\n",
    "print l1"
   ]
  },
  {
   "cell_type": "code",
   "execution_count": 22,
   "metadata": {
    "collapsed": false
   },
   "outputs": [
    {
     "data": {
      "text/plain": [
       "array([[ 9.67299303],\n",
       "       [-0.2078435 ],\n",
       "       [-4.62963669]])"
      ]
     },
     "execution_count": 22,
     "metadata": {},
     "output_type": "execute_result"
    }
   ],
   "source": [
    "syn0"
   ]
  },
  {
   "cell_type": "code",
   "execution_count": 17,
   "metadata": {
    "collapsed": false
   },
   "outputs": [
    {
     "data": {
      "text/plain": [
       "array([[ 1.        ],\n",
       "       [ 1.        ],\n",
       "       [ 2.71828183],\n",
       "       [ 2.71828183]])"
      ]
     },
     "execution_count": 17,
     "metadata": {},
     "output_type": "execute_result"
    }
   ],
   "source": [
    "np.exp(y)"
   ]
  },
  {
   "cell_type": "code",
   "execution_count": 19,
   "metadata": {
    "collapsed": false
   },
   "outputs": [
    {
     "data": {
      "text/plain": [
       "array([[ 1.        ,  1.        ,  2.71828183],\n",
       "       [ 1.        ,  2.71828183,  2.71828183],\n",
       "       [ 2.71828183,  1.        ,  2.71828183],\n",
       "       [ 2.71828183,  2.71828183,  2.71828183]])"
      ]
     },
     "execution_count": 19,
     "metadata": {},
     "output_type": "execute_result"
    }
   ],
   "source": [
    "np.exp(X)"
   ]
  },
  {
   "cell_type": "code",
   "execution_count": 20,
   "metadata": {
    "collapsed": false
   },
   "outputs": [
    {
     "data": {
      "text/plain": [
       "array([[-0.39533485],\n",
       "       [-0.70648822],\n",
       "       [-0.81532281]])"
      ]
     },
     "execution_count": 20,
     "metadata": {},
     "output_type": "execute_result"
    }
   ],
   "source": [
    "2*np.random.random((3,1)) - 1"
   ]
  },
  {
   "cell_type": "code",
   "execution_count": 27,
   "metadata": {
    "collapsed": true
   },
   "outputs": [],
   "source": [
    "#3 layer Neural Net\n",
    "import numpy as np\n",
    "\n",
    "def nonlin(x,deriv=False):\n",
    "    if(deriv==True):\n",
    "        return x*(1-x)\n",
    "    return 1/(1+np.exp(-x))\n",
    "\n",
    "X = np.array([[0,0,1],\n",
    "            [0,1,1],\n",
    "            [1,0,1],\n",
    "            [1,1,1]])\n",
    "\n",
    "y = np.array([[0],\n",
    "                [1],\n",
    "                [1],\n",
    "                [0]])\n",
    "\n",
    "np.random.seed(1)\n",
    "\n",
    "# randomly initialize our weights with mean 0\n",
    "\n",
    "syn0 = 2*np.random.random((3,4)) - 1\n",
    "syn1 = 2*np.random.random((4,1)) - 1"
   ]
  },
  {
   "cell_type": "code",
   "execution_count": 30,
   "metadata": {
    "collapsed": false
   },
   "outputs": [
    {
     "name": "stdout",
     "output_type": "stream",
     "text": [
      "Error:0.00220512937522\n",
      "Error:0.00219553079334\n",
      "Error:0.00218605401805\n",
      "Error:0.00217669651181\n",
      "Error:0.00216745581021\n",
      "Error:0.0021583295193\n",
      "Error:0.002149315313\n",
      "Error:0.00214041093072\n",
      "Error:0.00213161417492\n",
      "Error:0.00212292290897\n",
      "Error:0.0021143350549\n",
      "Error:0.00210584859145\n",
      "Error:0.00209746155202\n",
      "Error:0.00208917202283\n",
      "Error:0.00208097814111\n",
      "Error:0.00207287809335\n",
      "Error:0.00206487011365\n",
      "Error:0.00205695248215\n",
      "Error:0.00204912352348\n",
      "Error:0.00204138160529\n",
      "Error:0.00203372513685\n",
      "Error:0.0020261525677\n",
      "Error:0.00201866238635\n",
      "Error:0.00201125311905\n",
      "Error:0.00200392332855\n",
      "Error:0.00199667161299\n",
      "Error:0.00198949660474\n",
      "Error:0.0019823969694\n",
      "Error:0.00197537140472\n",
      "Error:0.00196841863964\n",
      "Error:0.0019615374333\n",
      "Error:0.00195472657419\n",
      "Error:0.00194798487922\n",
      "Error:0.00194131119285\n",
      "Error:0.00193470438634\n",
      "Error:0.00192816335689\n",
      "Error:0.00192168702693\n",
      "Error:0.00191527434336\n",
      "Error:0.00190892427682\n",
      "Error:0.00190263582108\n",
      "Error:0.00189640799228\n",
      "Error:0.00189023982837\n",
      "Error:0.00188413038848\n",
      "Error:0.0018780787523\n",
      "Error:0.00187208401952\n",
      "Error:0.00186614530929\n",
      "Error:0.00186026175967\n",
      "Error:0.00185443252709\n",
      "Error:0.00184865678591\n",
      "Error:0.00184293372787\n",
      "Error:0.00183726256167\n",
      "Error:0.00183164251249\n",
      "Error:0.00182607282156\n",
      "Error:0.00182055274574\n",
      "Error:0.0018150815571\n",
      "Error:0.00180965854253\n",
      "Error:0.00180428300336\n",
      "Error:0.00179895425496\n",
      "Error:0.00179367162643\n",
      "Error:0.00178843446019\n"
     ]
    }
   ],
   "source": [
    "#Optimization\n",
    "for j in xrange(60000):\n",
    "    # Feed forward through layers 0, 1, and 2\n",
    "    l0 = X\n",
    "    l1 = nonlin(np.dot(l0,syn0))\n",
    "    l2 = nonlin(np.dot(l1,syn1))\n",
    "\n",
    "    # how much did we miss the target value?\n",
    "    l2_error = y - l2\n",
    "    \n",
    "    if (j % 1000) == 0:\n",
    "        print \"Error:\" + str(np.mean(np.abs(l2_error)))\n",
    "\n",
    "    # in what direction is the target value?\n",
    "    # were we really sure? if so, don't change too much.\n",
    "\n",
    "    l2_delta = l2_error*nonlin(l2,deriv=True)\n",
    "\n",
    " \n",
    "\n",
    "    # how much did each l1 value contribute to the l2 error (according to the weights)?\n",
    "\n",
    "    l1_error = l2_delta.dot(syn1.T)\n",
    "\n",
    " \n",
    "\n",
    "    # in what direction is the target l1?\n",
    "    \n",
    "    # were we really sure? if so, don't change too much.\n",
    "\n",
    "    l1_delta = l1_error * nonlin(l1,deriv=True)\n",
    "\n",
    " \n",
    "\n",
    "    syn1 += l1.T.dot(l2_delta)\n",
    "\n",
    "    syn0 += l0.T.dot(l1_delta)"
   ]
  },
  {
   "cell_type": "code",
   "execution_count": 92,
   "metadata": {
    "collapsed": true
   },
   "outputs": [],
   "source": [
    "%matplotlib inline\n",
    "plt.rcParams['figure.figsize'] = (10.0, 8.0) # set default size of plots\n",
    "plt.rcParams['image.interpolation'] = 'nearest'\n",
    "plt.rcParams['image.cmap'] = 'gray'\n",
    "\n",
    "# for auto-reloading extenrnal modules\n",
    "# see http://stackoverflow.com/questions/1907993/autoreload-of-modules-in-ipython\n",
    "%load_ext autoreload\n",
    "%autoreload 2"
   ]
  },
  {
   "cell_type": "code",
   "execution_count": 38,
   "metadata": {
    "collapsed": false
   },
   "outputs": [],
   "source": [
    "#building from From Andrew Karpathy Notes\n",
    "#http://cs231n.github.io/neural-networks-case-study/\n",
    "#https://github.com/cs231n/cs231n.github.io/blob/master/neural-networks-case-study.md\n",
    "\n",
    "import matplotlib.pyplot as plt\n",
    "\n",
    "N = 100 # number of points per class\n",
    "D = 2 # dimensionality\n",
    "K = 3 # number of classes\n",
    "X = np.zeros((N*K,D)) # data matrix (each row = single example)\n",
    "y = np.zeros(N*K, dtype='uint8') # class labels\n",
    "for j in xrange(K):\n",
    "  ix = range(N*j,N*(j+1))\n",
    "  r = np.linspace(0.0,1,N) # radius\n",
    "  t = np.linspace(j*4,(j+1)*4,N) + np.random.randn(N)*0.2 # theta\n",
    "  X[ix] = np.c_[r*np.sin(t), r*np.cos(t)]\n",
    "  y[ix] = j"
   ]
  },
  {
   "cell_type": "code",
   "execution_count": 44,
   "metadata": {
    "collapsed": false
   },
   "outputs": [
    {
     "data": {
      "image/png": "[encoded data removed]",
      "text/plain": [
       "<matplotlib.figure.Figure at 0x110208710>"
      ]
     },
     "metadata": {},
     "output_type": "display_data"
    }
   ],
   "source": [
    "# lets visualize the data:\n",
    "plt.scatter(X[:, 0], X[:, 1], c=y, s=10, cmap=plt.cm.Spectral)\n",
    "plt.show()"
   ]
  },
  {
   "cell_type": "code",
   "execution_count": 76,
   "metadata": {
    "collapsed": true
   },
   "outputs": [],
   "source": [
    "#Softmax Linear Classifier\n",
    "# initialize parameters randomly\n",
    "W = 0.01 * np.random.randn(D,K)\n",
    "b = np.zeros((1,K))"
   ]
  },
  {
   "cell_type": "code",
   "execution_count": 77,
   "metadata": {
    "collapsed": false
   },
   "outputs": [
    {
     "data": {
      "text/plain": [
       "array([[ 0.,  0.,  0.]])"
      ]
     },
     "execution_count": 77,
     "metadata": {},
     "output_type": "execute_result"
    }
   ],
   "source": [
    "b"
   ]
  },
  {
   "cell_type": "code",
   "execution_count": 46,
   "metadata": {
    "collapsed": true
   },
   "outputs": [],
   "source": [
    "# compute class scores for a linear classifier\n",
    "scores = np.dot(X, W) + b"
   ]
  },
  {
   "cell_type": "code",
   "execution_count": 47,
   "metadata": {
    "collapsed": true
   },
   "outputs": [],
   "source": [
    "# get unnormalized probabilities\n",
    "exp_scores = np.exp(scores)\n",
    "# normalize them for each example\n",
    "probs = exp_scores / np.sum(exp_scores, axis=1, keepdims=True)"
   ]
  },
  {
   "cell_type": "code",
   "execution_count": 48,
   "metadata": {
    "collapsed": false
   },
   "outputs": [
    {
     "data": {
      "text/plain": [
       "array([[ 0.33333333,  0.33333333,  0.33333333],\n",
       "       [ 0.33334887,  0.33334007,  0.33331105],\n",
       "       [ 0.33336277,  0.33334704,  0.33329019],\n",
       "       [ 0.33337843,  0.33335377,  0.3332678 ],\n",
       "       [ 0.33338795,  0.33336129,  0.33325076],\n",
       "       [ 0.33342075,  0.3333655 ,  0.33321375],\n",
       "       [ 0.33337458,  0.33337861,  0.33324681],\n",
       "       [ 0.33344966,  0.33337936,  0.33317097],\n",
       "       [ 0.33341728,  0.33339179,  0.33319093],\n",
       "       [ 0.33352894,  0.33338308,  0.33308797],\n",
       "       [ 0.3335621 ,  0.33338546,  0.33305244],\n",
       "       [ 0.3335405 ,  0.33340133,  0.33305816],\n",
       "       [ 0.33364303,  0.3333835 ,  0.33297346],\n",
       "       [ 0.33366058,  0.33339104,  0.33294839],\n",
       "       [ 0.33369019,  0.3333937 ,  0.33291611],\n",
       "       [ 0.33369289,  0.33340636,  0.33290075],\n",
       "       [ 0.33376754,  0.33339   ,  0.33284246],\n",
       "       [ 0.33382238,  0.33337472,  0.3328029 ],\n",
       "       [ 0.33378375,  0.3334142 ,  0.33280205],\n",
       "       [ 0.3338116 ,  0.3334176 ,  0.33277081],\n",
       "       [ 0.33392657,  0.33335994,  0.3327135 ],\n",
       "       [ 0.33377539,  0.33345288,  0.33277173],\n",
       "       [ 0.3337873 ,  0.33346074,  0.33275196],\n",
       "       [ 0.33389778,  0.33344067,  0.33266155],\n",
       "       [ 0.33404101,  0.33337237,  0.33258662],\n",
       "       [ 0.3340744 ,  0.33336748,  0.33255812],\n",
       "       [ 0.33411082,  0.33334721,  0.33254197],\n",
       "       [ 0.33413908,  0.33335673,  0.33250419],\n",
       "       [ 0.3341419 ,  0.33328658,  0.33257152],\n",
       "       [ 0.33415893,  0.33327452,  0.33256654],\n",
       "       [ 0.33419846,  0.33328205,  0.33251949],\n",
       "       [ 0.33424978,  0.33337999,  0.33237024],\n",
       "       [ 0.33427325,  0.33329743,  0.33242932],\n",
       "       [ 0.33432044,  0.33334814,  0.33233142],\n",
       "       [ 0.33434553,  0.33331898,  0.33233549],\n",
       "       [ 0.33437979,  0.33333573,  0.33228448],\n",
       "       [ 0.33436785,  0.33326819,  0.33236396],\n",
       "       [ 0.33433997,  0.33322673,  0.33243329],\n",
       "       [ 0.33439067,  0.33323817,  0.33237115],\n",
       "       [ 0.33448483,  0.33329781,  0.33221736],\n",
       "       [ 0.33451903,  0.33330483,  0.33217615],\n",
       "       [ 0.33449411,  0.3332446 ,  0.33226129],\n",
       "       [ 0.33450645,  0.33323097,  0.33226258],\n",
       "       [ 0.33430096,  0.33312718,  0.33257186],\n",
       "       [ 0.33446307,  0.33317285,  0.33236407],\n",
       "       [ 0.33444023,  0.33314942,  0.33241034],\n",
       "       [ 0.33442697,  0.33313161,  0.33244141],\n",
       "       [ 0.33415849,  0.33305122,  0.33279029],\n",
       "       [ 0.33399496,  0.33301461,  0.33299043],\n",
       "       [ 0.3342555 ,  0.33305199,  0.3326925 ],\n",
       "       [ 0.33438012,  0.33307145,  0.33254843],\n",
       "       [ 0.33393355,  0.33298108,  0.33308536],\n",
       "       [ 0.33415553,  0.33300456,  0.3328399 ],\n",
       "       [ 0.33434069,  0.33303114,  0.33262817],\n",
       "       [ 0.33390468,  0.332953  ,  0.33314232],\n",
       "       [ 0.3340958 ,  0.33296872,  0.33293548],\n",
       "       [ 0.33449949,  0.33303828,  0.33246223],\n",
       "       [ 0.33386488,  0.33292458,  0.33321053],\n",
       "       [ 0.33391529,  0.33292148,  0.33316322],\n",
       "       [ 0.33451465,  0.33301062,  0.33247473],\n",
       "       [ 0.33455915,  0.33301112,  0.33242973],\n",
       "       [ 0.33379097,  0.33288626,  0.33332277],\n",
       "       [ 0.33352519,  0.332863  ,  0.33361181],\n",
       "       [ 0.33348051,  0.33285371,  0.33366578],\n",
       "       [ 0.33413469,  0.33289726,  0.33296805],\n",
       "       [ 0.33369772,  0.33284839,  0.33345389],\n",
       "       [ 0.33322547,  0.33282675,  0.33394778],\n",
       "       [ 0.33401221,  0.33285825,  0.33312954],\n",
       "       [ 0.33329426,  0.33281165,  0.33389409],\n",
       "       [ 0.33315763,  0.33280403,  0.33403834],\n",
       "       [ 0.33277952,  0.33280843,  0.33441205],\n",
       "       [ 0.33409661,  0.33283456,  0.33306884],\n",
       "       [ 0.33292074,  0.33278616,  0.33429311],\n",
       "       [ 0.33208703,  0.33285646,  0.33505651],\n",
       "       [ 0.33306757,  0.33276669,  0.33416574],\n",
       "       [ 0.33283995,  0.3327659 ,  0.33439415],\n",
       "       [ 0.33221175,  0.332811  ,  0.33497725],\n",
       "       [ 0.33284606,  0.33274993,  0.33440401],\n",
       "       [ 0.3319453 ,  0.33283317,  0.33522153],\n",
       "       [ 0.33208929,  0.33280103,  0.33510968],\n",
       "       [ 0.33292326,  0.3327237 ,  0.33435304],\n",
       "       [ 0.33207259,  0.33278539,  0.33514202],\n",
       "       [ 0.33266489,  0.33271948,  0.33461563],\n",
       "       [ 0.33155598,  0.33286359,  0.33558043],\n",
       "       [ 0.33256093,  0.33271005,  0.33472902],\n",
       "       [ 0.3325175 ,  0.33270502,  0.33477747],\n",
       "       [ 0.33209604,  0.33273794,  0.33516602],\n",
       "       [ 0.33184498,  0.33276504,  0.33538998],\n",
       "       [ 0.33102301,  0.33297673,  0.33600026],\n",
       "       [ 0.33134038,  0.33285205,  0.33580757],\n",
       "       [ 0.33114702,  0.33289894,  0.33595404],\n",
       "       [ 0.33085603,  0.33300864,  0.33613533],\n",
       "       [ 0.33130017,  0.33282839,  0.33587145],\n",
       "       [ 0.33116231,  0.3328558 ,  0.33598189],\n",
       "       [ 0.33116267,  0.33284348,  0.33599385],\n",
       "       [ 0.33064059,  0.33306256,  0.33629684],\n",
       "       [ 0.33048417,  0.33320847,  0.33630736],\n",
       "       [ 0.33060702,  0.3330399 ,  0.33635308],\n",
       "       [ 0.3307382 ,  0.33294593,  0.33631587],\n",
       "       [ 0.33063341,  0.33298224,  0.33638434],\n",
       "       [ 0.33333333,  0.33333333,  0.33333333],\n",
       "       [ 0.33330368,  0.33333198,  0.33336434],\n",
       "       [ 0.33327943,  0.33332603,  0.33339454],\n",
       "       [ 0.33324633,  0.33332666,  0.33342701],\n",
       "       [ 0.33322264,  0.33332035,  0.33345701],\n",
       "       [ 0.33320172,  0.33331352,  0.33348477],\n",
       "       [ 0.33318345,  0.33330619,  0.33351036],\n",
       "       [ 0.3331287 ,  0.33331951,  0.33355178],\n",
       "       [ 0.33309446,  0.33333345,  0.3335721 ],\n",
       "       [ 0.33306429,  0.33332884,  0.33360687],\n",
       "       [ 0.33303464,  0.33333288,  0.33363248],\n",
       "       [ 0.33300569,  0.33332195,  0.33367236],\n",
       "       [ 0.33297464,  0.33332717,  0.3336982 ],\n",
       "       [ 0.33294469,  0.33332796,  0.33372735],\n",
       "       [ 0.33293248,  0.33335913,  0.33370839],\n",
       "       [ 0.33299017,  0.33340307,  0.33360676],\n",
       "       [ 0.33287682,  0.33336414,  0.33375905],\n",
       "       [ 0.33282752,  0.33333947,  0.33383301],\n",
       "       [ 0.33291009,  0.33341322,  0.33367668],\n",
       "       [ 0.33278328,  0.33336258,  0.33385414],\n",
       "       [ 0.33284104,  0.33341411,  0.33374485],\n",
       "       [ 0.3327664 ,  0.33339522,  0.33383838],\n",
       "       [ 0.33278649,  0.33342007,  0.33379345],\n",
       "       [ 0.3331491 ,  0.333501  ,  0.3333499 ],\n",
       "       [ 0.33270515,  0.33341415,  0.3338807 ],\n",
       "       [ 0.33270687,  0.33342981,  0.33386332],\n",
       "       [ 0.3327971 ,  0.33347085,  0.33373205],\n",
       "       [ 0.33275412,  0.33347014,  0.33377574],\n",
       "       [ 0.33271186,  0.3334692 ,  0.33381894],\n",
       "       [ 0.33268043,  0.33347125,  0.33384832],\n",
       "       [ 0.33285942,  0.33352269,  0.3336179 ],\n",
       "       [ 0.33295628,  0.3335458 ,  0.33349792],\n",
       "       [ 0.33265764,  0.33349836,  0.333844  ],\n",
       "       [ 0.33263901,  0.33350417,  0.33385682],\n",
       "       [ 0.33318408,  0.33358943,  0.33322649],\n",
       "       [ 0.33261427,  0.33351905,  0.33386668],\n",
       "       [ 0.33302616,  0.33359415,  0.33337969],\n",
       "       [ 0.33300194,  0.33359996,  0.3333981 ],\n",
       "       [ 0.33271827,  0.33357053,  0.3337112 ],\n",
       "       [ 0.33314823,  0.33362638,  0.33322539],\n",
       "       [ 0.33276906,  0.33359668,  0.33363426],\n",
       "       [ 0.33280207,  0.33361002,  0.33358791],\n",
       "       [ 0.33276707,  0.33361368,  0.33361925],\n",
       "       [ 0.33335531,  0.33366332,  0.33298137],\n",
       "       [ 0.33307307,  0.33366093,  0.333266  ],\n",
       "       [ 0.33353183,  0.333677  ,  0.33279118],\n",
       "       [ 0.33307291,  0.33367656,  0.33325053],\n",
       "       [ 0.33352213,  0.33369273,  0.33278514],\n",
       "       [ 0.33380343,  0.33368652,  0.33251005],\n",
       "       [ 0.33344374,  0.33370936,  0.3328469 ],\n",
       "       [ 0.33319599,  0.33371353,  0.33309048],\n",
       "       [ 0.33349302,  0.33372419,  0.33278279],\n",
       "       [ 0.33403086,  0.33369756,  0.33227159],\n",
       "       [ 0.33395347,  0.33371437,  0.33233217],\n",
       "       [ 0.33368163,  0.33374173,  0.33257664],\n",
       "       [ 0.33331063,  0.33375485,  0.33293452],\n",
       "       [ 0.33416331,  0.33371551,  0.33212118],\n",
       "       [ 0.33448545,  0.33366793,  0.33184662],\n",
       "       [ 0.33456075,  0.33366079,  0.33177846],\n",
       "       [ 0.33430502,  0.3337216 ,  0.33197338],\n",
       "       [ 0.33419171,  0.33374683,  0.33206146],\n",
       "       [ 0.33407746,  0.3337687 ,  0.33215384],\n",
       "       [ 0.33422762,  0.33375963,  0.33201275],\n",
       "       [ 0.33394069,  0.3337975 ,  0.33226181],\n",
       "       [ 0.33506161,  0.33356244,  0.33137595],\n",
       "       [ 0.33463517,  0.33371731,  0.33164752],\n",
       "       [ 0.33521153,  0.33350897,  0.3312795 ],\n",
       "       [ 0.33477796,  0.33370454,  0.3315175 ],\n",
       "       [ 0.33437292,  0.33379272,  0.33183436],\n",
       "       [ 0.33530735,  0.33350847,  0.33118418],\n",
       "       [ 0.33478961,  0.33373418,  0.3314762 ],\n",
       "       [ 0.33498909,  0.33369131,  0.3313196 ],\n",
       "       [ 0.33543665,  0.33347437,  0.33108898],\n",
       "       [ 0.33546705,  0.33347494,  0.33105801],\n",
       "       [ 0.3347549 ,  0.33378307,  0.33146203],\n",
       "       [ 0.33537573,  0.33359205,  0.33103223],\n",
       "       [ 0.33520336,  0.33368364,  0.331113  ],\n",
       "       [ 0.33557242,  0.33349513,  0.33093244],\n",
       "       [ 0.33566467,  0.33332295,  0.33101238],\n",
       "       [ 0.33553798,  0.33357372,  0.3308883 ],\n",
       "       [ 0.33572191,  0.33331213,  0.33096596],\n",
       "       [ 0.33559259,  0.33358048,  0.33082693],\n",
       "       [ 0.33568612,  0.33317737,  0.33113652],\n",
       "       [ 0.33572792,  0.33352592,  0.33074616],\n",
       "       [ 0.33581703,  0.33345774,  0.33072523],\n",
       "       [ 0.33587649,  0.33333464,  0.33078887],\n",
       "       [ 0.33581879,  0.33352873,  0.33065248],\n",
       "       [ 0.33576469,  0.33311825,  0.33111706],\n",
       "       [ 0.33594996,  0.33343658,  0.33061346],\n",
       "       [ 0.33590812,  0.33318261,  0.33090927],\n",
       "       [ 0.33601932,  0.33341349,  0.33056719],\n",
       "       [ 0.3359796 ,  0.33319268,  0.33082773],\n",
       "       [ 0.33599763,  0.33317984,  0.33082253],\n",
       "       [ 0.33604983,  0.33320253,  0.33074764],\n",
       "       [ 0.3358826 ,  0.33305313,  0.33106427],\n",
       "       [ 0.33614307,  0.33324609,  0.33061084],\n",
       "       [ 0.33548439,  0.33286786,  0.33164775],\n",
       "       [ 0.33588008,  0.33300116,  0.33111876],\n",
       "       [ 0.33626299,  0.3334029 ,  0.33033411],\n",
       "       [ 0.33507361,  0.33273835,  0.33218804],\n",
       "       [ 0.33333333,  0.33333333,  0.33333333],\n",
       "       [ 0.33335208,  0.33332759,  0.33332033],\n",
       "       [ 0.33338311,  0.33332544,  0.33329145],\n",
       "       [ 0.33342105,  0.33332959,  0.33324936],\n",
       "       [ 0.3334307 ,  0.3333167 ,  0.3332526 ],\n",
       "       [ 0.33346462,  0.33331658,  0.33321879],\n",
       "       [ 0.33346128,  0.33330264,  0.33323608],\n",
       "       [ 0.33348954,  0.3332995 ,  0.33321096],\n",
       "       [ 0.33348069,  0.3332868 ,  0.3332325 ],\n",
       "       [ 0.33356238,  0.33329986,  0.33313776],\n",
       "       [ 0.33350559,  0.33327275,  0.33322166],\n",
       "       [ 0.33353919,  0.33327004,  0.33319077],\n",
       "       [ 0.33347871,  0.33325098,  0.33327031],\n",
       "       [ 0.33362332,  0.33327043,  0.33310625],\n",
       "       [ 0.33355146,  0.33324435,  0.33320419],\n",
       "       [ 0.33337404,  0.3332193 ,  0.33340666],\n",
       "       [ 0.33361074,  0.33323672,  0.33315253],\n",
       "       [ 0.33343141,  0.33320664,  0.33336194],\n",
       "       [ 0.3333523 ,  0.33319564,  0.33345206],\n",
       "       [ 0.33348104,  0.33319447,  0.33332449],\n",
       "       [ 0.33334698,  0.3331802 ,  0.33347282],\n",
       "       [ 0.33331564,  0.33317216,  0.33351219],\n",
       "       [ 0.33321928,  0.33316578,  0.33361495],\n",
       "       [ 0.33345166,  0.33316107,  0.33338727],\n",
       "       [ 0.33339167,  0.33315065,  0.33345768],\n",
       "       [ 0.33322728,  0.33314226,  0.33363046],\n",
       "       [ 0.33343199,  0.33313682,  0.33343119],\n",
       "       [ 0.3332753 ,  0.33312613,  0.33359857],\n",
       "       [ 0.3333643 ,  0.33311919,  0.33351651],\n",
       "       [ 0.33360841,  0.33312582,  0.33326577],\n",
       "       [ 0.33311092,  0.33310767,  0.3337814 ],\n",
       "       [ 0.33283751,  0.33312608,  0.33403641],\n",
       "       [ 0.33315266,  0.33309011,  0.33375724],\n",
       "       [ 0.3330214 ,  0.33308929,  0.33388931],\n",
       "       [ 0.33307731,  0.33307778,  0.33384491],\n",
       "       [ 0.3330872 ,  0.33306937,  0.33384343],\n",
       "       [ 0.33286202,  0.33307906,  0.33405893],\n",
       "       [ 0.33263693,  0.33310372,  0.33425934],\n",
       "       [ 0.3324094 ,  0.33315147,  0.33443913],\n",
       "       [ 0.33257112,  0.33309693,  0.33433194],\n",
       "       [ 0.3328727 ,  0.33304431,  0.33408299],\n",
       "       [ 0.33292145,  0.33303191,  0.33404664],\n",
       "       [ 0.3323271 ,  0.33312717,  0.33454572],\n",
       "       [ 0.33243648,  0.3330851 ,  0.33447842],\n",
       "       [ 0.33256137,  0.33304988,  0.33438875],\n",
       "       [ 0.33259781,  0.33303465,  0.33436755],\n",
       "       [ 0.33248095,  0.33304512,  0.33447392],\n",
       "       [ 0.33207074,  0.33315806,  0.3347712 ],\n",
       "       [ 0.33220378,  0.33309098,  0.33470524],\n",
       "       [ 0.33242231,  0.33302684,  0.33455085],\n",
       "       [ 0.33195974,  0.3331634 ,  0.33487686],\n",
       "       [ 0.33197907,  0.33313515,  0.33488577],\n",
       "       [ 0.33201373,  0.33310445,  0.33488182],\n",
       "       [ 0.33183831,  0.33317835,  0.33498335],\n",
       "       [ 0.33198604,  0.33308667,  0.33492728],\n",
       "       [ 0.3317178 ,  0.33323339,  0.33504881],\n",
       "       [ 0.33197275,  0.33306433,  0.33496292],\n",
       "       [ 0.33182005,  0.33311145,  0.33506849],\n",
       "       [ 0.3318389 ,  0.33308706,  0.33507404],\n",
       "       [ 0.33164853,  0.33317633,  0.33517514],\n",
       "       [ 0.33163528,  0.33316169,  0.33520303],\n",
       "       [ 0.33154979,  0.33321177,  0.33523845],\n",
       "       [ 0.33148912,  0.3332628 ,  0.33524807],\n",
       "       [ 0.33145438,  0.33333419,  0.33521143],\n",
       "       [ 0.3314217 ,  0.33331388,  0.33526442],\n",
       "       [ 0.33139745,  0.33334427,  0.33525828],\n",
       "       [ 0.33150857,  0.33349942,  0.33499201],\n",
       "       [ 0.33133492,  0.3333327 ,  0.33533238],\n",
       "       [ 0.33132281,  0.33322977,  0.33544743],\n",
       "       [ 0.33141849,  0.3335021 ,  0.33507941],\n",
       "       [ 0.33160305,  0.33361091,  0.33478604],\n",
       "       [ 0.33131174,  0.33346907,  0.3352192 ],\n",
       "       [ 0.33142353,  0.33356043,  0.33501604],\n",
       "       [ 0.33120512,  0.33342443,  0.33537045],\n",
       "       [ 0.33132227,  0.33354032,  0.3351374 ],\n",
       "       [ 0.3314335 ,  0.33361159,  0.33495492],\n",
       "       [ 0.33139475,  0.33360943,  0.33499581],\n",
       "       [ 0.33121869,  0.33353528,  0.33524603],\n",
       "       [ 0.33184565,  0.33377389,  0.33438046],\n",
       "       [ 0.33142287,  0.33366233,  0.33491481],\n",
       "       [ 0.33170136,  0.33375947,  0.33453917],\n",
       "       [ 0.33157065,  0.33373474,  0.33469461],\n",
       "       [ 0.33178878,  0.33380078,  0.33441044],\n",
       "       [ 0.33187264,  0.33382834,  0.33429902],\n",
       "       [ 0.3315    ,  0.33374794,  0.33475206],\n",
       "       [ 0.33196499,  0.33386454,  0.33417046],\n",
       "       [ 0.33266406,  0.33396198,  0.33337395],\n",
       "       [ 0.33267665,  0.33397095,  0.3333524 ],\n",
       "       [ 0.33216179,  0.33392251,  0.3339157 ],\n",
       "       [ 0.33270914,  0.3339893 ,  0.33330156],\n",
       "       [ 0.33141389,  0.33379009,  0.33479602],\n",
       "       [ 0.3327955 ,  0.33401105,  0.33319345],\n",
       "       [ 0.33216739,  0.3339574 ,  0.33387521],\n",
       "       [ 0.3314    ,  0.33381882,  0.33478117],\n",
       "       [ 0.3323987 ,  0.33400154,  0.33359976],\n",
       "       [ 0.33294637,  0.33405064,  0.33300299],\n",
       "       [ 0.33213607,  0.3339871 ,  0.33387683],\n",
       "       [ 0.33372691,  0.33407488,  0.33219821],\n",
       "       [ 0.33350605,  0.33408572,  0.33240823],\n",
       "       [ 0.33211319,  0.33400942,  0.33387739]])"
      ]
     },
     "execution_count": 48,
     "metadata": {},
     "output_type": "execute_result"
    }
   ],
   "source": [
    "probs"
   ]
  },
  {
   "cell_type": "code",
   "execution_count": 60,
   "metadata": {
    "collapsed": false
   },
   "outputs": [],
   "source": [
    "num_examples = X.shape[0]\n",
    "corect_logprobs = -np.log(probs[range(num_examples),y])"
   ]
  },
  {
   "cell_type": "code",
   "execution_count": 61,
   "metadata": {
    "collapsed": false
   },
   "outputs": [
    {
     "data": {
      "text/plain": [
       "300"
      ]
     },
     "execution_count": 61,
     "metadata": {},
     "output_type": "execute_result"
    }
   ],
   "source": [
    "X.shape[0]"
   ]
  },
  {
   "cell_type": "code",
   "execution_count": 58,
   "metadata": {
    "collapsed": false
   },
   "outputs": [
    {
     "data": {
      "text/plain": [
       "array([ 1.09861229,  1.09856568,  1.09852398,  1.09847702,  1.09844844,\n",
       "        1.09835007,  1.09848856,  1.09826336,  1.09836049,  1.09802563,\n",
       "        1.09792622,  1.09799097,  1.09768362,  1.09763104,  1.09754229,\n",
       "        1.09753421,  1.09731052,  1.09714622,  1.09726195,  1.09717853,\n",
       "        1.09683417,  1.097287  ,  1.09725131,  1.09692038,  1.09649152,\n",
       "        1.09639155,  1.09628255,  1.09619798,  1.09618954,  1.09613855,\n",
       "        1.09602026,  1.09586673,  1.09579651,  1.09565534,  1.0955803 ,\n",
       "        1.09547784,  1.09551355,  1.09559692,  1.09544529,  1.09516374,\n",
       "        1.09506152,  1.09513602,  1.09509912,  1.09571361,  1.0952288 ,\n",
       "        1.09529709,  1.09533674,  1.09613989,  1.09662938,  1.0958496 ,\n",
       "        1.09547686,  1.09681324,  1.09614872,  1.09559478,  1.09689972,\n",
       "        1.09632749,  1.09511993,  1.09701892,  1.09686793,  1.09507461,\n",
       "        1.09494158,  1.09724031,  1.09803689,  1.09817086,  1.0962111 ,\n",
       "        1.09751971,  1.09893593,  1.09657773,  1.09872952,  1.09913953,\n",
       "        1.10027512,  1.09632509,  1.09985084,  1.10235821,  1.0994099 ,\n",
       "        1.10009352,  1.10198271,  1.10007519,  1.10278509,  1.10235141,\n",
       "        1.09984327,  1.10240169,  1.10061963,  1.10395861,  1.10093218,\n",
       "        1.10106278,  1.10233108,  1.10308734,  1.10556738,  1.1046091 ,\n",
       "        1.10519283,  1.10607194,  1.10473047,  1.10514665,  1.10514558,\n",
       "        1.10672331,  1.10719651,  1.10682487,  1.10642816,  1.10674503,\n",
       "        1.09861229,  1.09861636,  1.09863421,  1.09863232,  1.09865125,\n",
       "        1.09867174,  1.09869374,  1.09865375,  1.09861195,  1.09862576,\n",
       "        1.09861365,  1.09864644,  1.09863078,  1.09862841,  1.0985349 ,\n",
       "        1.0984031 ,  1.09851988,  1.09859389,  1.09837265,  1.09852455,\n",
       "        1.09837   ,  1.09842666,  1.09835212,  1.09810942,  1.09836988,\n",
       "        1.0983229 ,  1.09819983,  1.09820195,  1.09820476,  1.09819863,\n",
       "        1.09804439,  1.09797508,  1.09811733,  1.0980999 ,  1.09784428,\n",
       "        1.0980553 ,  1.09783016,  1.09781273,  1.09790095,  1.09773353,\n",
       "        1.09782257,  1.09778257,  1.09777159,  1.09762281,  1.09762998,\n",
       "        1.09758183,  1.09758314,  1.09753468,  1.0975533 ,  1.09748484,\n",
       "        1.09747235,  1.09744041,  1.09752022,  1.09746984,  1.09738784,\n",
       "        1.09734854,  1.09746643,  1.097609  ,  1.09763041,  1.09744818,\n",
       "        1.09737255,  1.09730704,  1.09733422,  1.09722077,  1.09792519,\n",
       "        1.09746102,  1.09808552,  1.0974993 ,  1.09723507,  1.09808701,\n",
       "        1.09741046,  1.09753893,  1.09818927,  1.09818757,  1.09726398,\n",
       "        1.09783645,  1.09756191,  1.09812701,  1.09864343,  1.09789138,\n",
       "        1.09867589,  1.09787112,  1.0990803 ,  1.0980347 ,  1.09823914,\n",
       "        1.09860837,  1.09802628,  1.09925775,  1.0983026 ,  1.09906455,\n",
       "        1.09837184,  1.09903435,  1.09907288,  1.09900478,  1.09945324,\n",
       "        1.09887405,  1.1000097 ,  1.09960929,  1.0984036 ,  1.10039883,\n",
       "        1.09861229,  1.09865129,  1.09873794,  1.09886425,  1.09885451,\n",
       "        1.09895597,  1.09890408,  1.09897947,  1.09891482,  1.09919917,\n",
       "        1.09894736,  1.09904006,  1.09880138,  1.09929378,  1.09899981,\n",
       "        1.09839233,  1.09915483,  1.09852646,  1.09825616,  1.09863882,\n",
       "        1.09819391,  1.09807585,  1.09776781,  1.0984505 ,  1.09823932,\n",
       "        1.0977213 ,  1.09831877,  1.0978169 ,  1.09806291,  1.09881499,\n",
       "        1.09726898,  1.09650527,  1.09734139,  1.09694575,  1.09707874,\n",
       "        1.09708317,  1.09643787,  1.09583811,  1.09530038,  1.09562093,\n",
       "        1.09636585,  1.09647467,  1.09498172,  1.09518292,  1.09545104,\n",
       "        1.09551446,  1.09519636,  1.09430796,  1.09450502,  1.0949664 ,\n",
       "        1.0939924 ,  1.09396578,  1.0939776 ,  1.09367446,  1.09384183,\n",
       "        1.09347906,  1.09373545,  1.09342032,  1.09340376,  1.09310209,\n",
       "        1.09301886,  1.09291322,  1.0928845 ,  1.09299381,  1.09283574,\n",
       "        1.09285406,  1.09364859,  1.09263305,  1.09229004,  1.09338772,\n",
       "        1.09426364,  1.09297065,  1.09357687,  1.09251954,  1.09321467,\n",
       "        1.09375934,  1.09363725,  1.09289061,  1.09547583,  1.09387909,\n",
       "        1.09500131,  1.09453677,  1.09538619,  1.09571943,  1.09436514,\n",
       "        1.09610405,  1.09849044,  1.09855509,  1.09686671,  1.09870763,\n",
       "        1.09423384,  1.09903202,  1.09698799,  1.09427818,  1.09781332,\n",
       "        1.09960381,  1.09698312,  1.10202347,  1.10139144,  1.09698145])"
      ]
     },
     "execution_count": 58,
     "metadata": {},
     "output_type": "execute_result"
    }
   ],
   "source": [
    "corect_logprobs"
   ]
  },
  {
   "cell_type": "code",
   "execution_count": 62,
   "metadata": {
    "collapsed": false
   },
   "outputs": [],
   "source": [
    "# compute the loss: average cross-entropy loss and regularization\n",
    "# some hyperparameters\n",
    "step_size = 1e-0\n",
    "reg = 1e-3 # regularization strength\n",
    "data_loss = np.sum(corect_logprobs)/num_examples\n",
    "reg_loss = 0.5*reg*np.sum(W*W)\n",
    "loss = data_loss + reg_loss"
   ]
  },
  {
   "cell_type": "code",
   "execution_count": 70,
   "metadata": {
    "collapsed": true
   },
   "outputs": [],
   "source": [
    "dscores = probs\n",
    "dscores[range(num_examples),y] -= 1\n",
    "dscores /= num_examples"
   ]
  },
  {
   "cell_type": "code",
   "execution_count": 71,
   "metadata": {
    "collapsed": false
   },
   "outputs": [
    {
     "data": {
      "text/plain": [
       "array([[ -6.70002469e-03,   1.23456790e-08,   1.23456790e-08],\n",
       "       [ -6.70002469e-03,   1.23459287e-08,   1.23448538e-08],\n",
       "       [ -6.70002469e-03,   1.23461868e-08,   1.23440810e-08],\n",
       "       [ -6.70002469e-03,   1.23464359e-08,   1.23432520e-08],\n",
       "       [ -6.70002469e-03,   1.23467143e-08,   1.23426208e-08],\n",
       "       [ -6.70002469e-03,   1.23468703e-08,   1.23412500e-08],\n",
       "       [ -6.70002469e-03,   1.23473560e-08,   1.23424745e-08],\n",
       "       [ -6.70002469e-03,   1.23473839e-08,   1.23396657e-08],\n",
       "       [ -6.70002469e-03,   1.23478442e-08,   1.23404047e-08],\n",
       "       [ -6.70002468e-03,   1.23475216e-08,   1.23365916e-08],\n",
       "       [ -6.70002468e-03,   1.23476095e-08,   1.23352756e-08],\n",
       "       [ -6.70002468e-03,   1.23481975e-08,   1.23354875e-08],\n",
       "       [ -6.70002468e-03,   1.23475372e-08,   1.23323505e-08],\n",
       "       [ -6.70002468e-03,   1.23478161e-08,   1.23314218e-08],\n",
       "       [ -6.70002468e-03,   1.23479149e-08,   1.23302262e-08],\n",
       "       [ -6.70002468e-03,   1.23483837e-08,   1.23296575e-08],\n",
       "       [ -6.70002468e-03,   1.23477777e-08,   1.23274986e-08],\n",
       "       [ -6.70002467e-03,   1.23472117e-08,   1.23260334e-08],\n",
       "       [ -6.70002467e-03,   1.23486741e-08,   1.23260018e-08],\n",
       "       [ -6.70002467e-03,   1.23487999e-08,   1.23248447e-08],\n",
       "       [ -6.70002467e-03,   1.23466643e-08,   1.23227221e-08],\n",
       "       [ -6.70002467e-03,   1.23501068e-08,   1.23248787e-08],\n",
       "       [ -6.70002467e-03,   1.23503978e-08,   1.23241466e-08],\n",
       "       [ -6.70002467e-03,   1.23496545e-08,   1.23207981e-08],\n",
       "       [ -6.70002467e-03,   1.23471248e-08,   1.23180231e-08],\n",
       "       [ -6.70002466e-03,   1.23469435e-08,   1.23169675e-08],\n",
       "       [ -6.70002466e-03,   1.23461929e-08,   1.23163694e-08],\n",
       "       [ -6.70002466e-03,   1.23465455e-08,   1.23149702e-08],\n",
       "       [ -6.70002466e-03,   1.23439475e-08,   1.23174637e-08],\n",
       "       [ -6.70002466e-03,   1.23435008e-08,   1.23172793e-08],\n",
       "       [ -6.70002466e-03,   1.23437795e-08,   1.23155367e-08],\n",
       "       [ -6.70002466e-03,   1.23474069e-08,   1.23100087e-08],\n",
       "       [ -6.70002466e-03,   1.23443493e-08,   1.23121970e-08],\n",
       "       [ -6.70002465e-03,   1.23462272e-08,   1.23085712e-08],\n",
       "       [ -6.70002465e-03,   1.23451476e-08,   1.23087217e-08],\n",
       "       [ -6.70002465e-03,   1.23457677e-08,   1.23068328e-08],\n",
       "       [ -6.70002465e-03,   1.23432664e-08,   1.23097762e-08],\n",
       "       [ -6.70002465e-03,   1.23417309e-08,   1.23123441e-08],\n",
       "       [ -6.70002465e-03,   1.23421546e-08,   1.23100427e-08],\n",
       "       [ -6.70002465e-03,   1.23443633e-08,   1.23043465e-08],\n",
       "       [ -6.70002465e-03,   1.23446232e-08,   1.23028203e-08],\n",
       "       [ -6.70002465e-03,   1.23423927e-08,   1.23059737e-08],\n",
       "       [ -6.70002465e-03,   1.23418879e-08,   1.23060213e-08],\n",
       "       [ -6.70002466e-03,   1.23380436e-08,   1.23174763e-08],\n",
       "       [ -6.70002465e-03,   1.23397353e-08,   1.23097805e-08],\n",
       "       [ -6.70002465e-03,   1.23388675e-08,   1.23114942e-08],\n",
       "       [ -6.70002465e-03,   1.23382079e-08,   1.23126450e-08],\n",
       "       [ -6.70002466e-03,   1.23352305e-08,   1.23255663e-08],\n",
       "       [ -6.70002467e-03,   1.23338744e-08,   1.23329791e-08],\n",
       "       [ -6.70002466e-03,   1.23352590e-08,   1.23219446e-08],\n",
       "       [ -6.70002465e-03,   1.23359797e-08,   1.23166086e-08],\n",
       "       [ -6.70002467e-03,   1.23326326e-08,   1.23364950e-08],\n",
       "       [ -6.70002466e-03,   1.23335023e-08,   1.23274039e-08],\n",
       "       [ -6.70002465e-03,   1.23344866e-08,   1.23195619e-08],\n",
       "       [ -6.70002467e-03,   1.23315927e-08,   1.23386044e-08],\n",
       "       [ -6.70002466e-03,   1.23321748e-08,   1.23309435e-08],\n",
       "       [ -6.70002465e-03,   1.23347510e-08,   1.23134160e-08],\n",
       "       [ -6.70002467e-03,   1.23305402e-08,   1.23411309e-08],\n",
       "       [ -6.70002467e-03,   1.23304253e-08,   1.23393786e-08],\n",
       "       [ -6.70002465e-03,   1.23337268e-08,   1.23138788e-08],\n",
       "       [ -6.70002465e-03,   1.23337452e-08,   1.23122121e-08],\n",
       "       [ -6.70002467e-03,   1.23291206e-08,   1.23452878e-08],\n",
       "       [ -6.70002468e-03,   1.23282592e-08,   1.23559931e-08],\n",
       "       [ -6.70002469e-03,   1.23279151e-08,   1.23579920e-08],\n",
       "       [ -6.70002466e-03,   1.23295281e-08,   1.23321500e-08],\n",
       "       [ -6.70002468e-03,   1.23277182e-08,   1.23501439e-08],\n",
       "       [ -6.70002470e-03,   1.23269166e-08,   1.23684364e-08],\n",
       "       [ -6.70002467e-03,   1.23280834e-08,   1.23381311e-08],\n",
       "       [ -6.70002469e-03,   1.23263574e-08,   1.23664478e-08],\n",
       "       [ -6.70002470e-03,   1.23260751e-08,   1.23717903e-08],\n",
       "       [ -6.70002471e-03,   1.23262383e-08,   1.23856315e-08],\n",
       "       [ -6.70002466e-03,   1.23272058e-08,   1.23358828e-08],\n",
       "       [ -6.70002471e-03,   1.23254132e-08,   1.23812262e-08],\n",
       "       [ -6.70002474e-03,   1.23280171e-08,   1.24095004e-08],\n",
       "       [ -6.70002470e-03,   1.23246922e-08,   1.23765090e-08],\n",
       "       [ -6.70002471e-03,   1.23246628e-08,   1.23849685e-08],\n",
       "       [ -6.70002473e-03,   1.23263334e-08,   1.24065647e-08],\n",
       "       [ -6.70002471e-03,   1.23240715e-08,   1.23853338e-08],\n",
       "       [ -6.70002474e-03,   1.23271545e-08,   1.24156122e-08],\n",
       "       [ -6.70002474e-03,   1.23259642e-08,   1.24114696e-08],\n",
       "       [ -6.70002471e-03,   1.23231001e-08,   1.23834459e-08],\n",
       "       [ -6.70002474e-03,   1.23253850e-08,   1.24126673e-08],\n",
       "       [ -6.70002472e-03,   1.23229438e-08,   1.23931714e-08],\n",
       "       [ -6.70002476e-03,   1.23282811e-08,   1.24289048e-08],\n",
       "       [ -6.70002472e-03,   1.23225943e-08,   1.23973712e-08],\n",
       "       [ -6.70002472e-03,   1.23224083e-08,   1.23991657e-08],\n",
       "       [ -6.70002474e-03,   1.23236274e-08,   1.24135563e-08],\n",
       "       [ -6.70002475e-03,   1.23246310e-08,   1.24218512e-08],\n",
       "       [ -6.70002478e-03,   1.23324714e-08,   1.24444540e-08],\n",
       "       [ -6.70002477e-03,   1.23278538e-08,   1.24373174e-08],\n",
       "       [ -6.70002477e-03,   1.23295904e-08,   1.24427421e-08],\n",
       "       [ -6.70002478e-03,   1.23336532e-08,   1.24494566e-08],\n",
       "       [ -6.70002477e-03,   1.23269773e-08,   1.24396832e-08],\n",
       "       [ -6.70002477e-03,   1.23279926e-08,   1.24437736e-08],\n",
       "       [ -6.70002477e-03,   1.23275364e-08,   1.24442166e-08],\n",
       "       [ -6.70002479e-03,   1.23356505e-08,   1.24554386e-08],\n",
       "       [ -6.70002480e-03,   1.23410543e-08,   1.24558282e-08],\n",
       "       [ -6.70002479e-03,   1.23348112e-08,   1.24575216e-08],\n",
       "       [ -6.70002479e-03,   1.23313307e-08,   1.24561434e-08],\n",
       "       [ -6.70002479e-03,   1.23326757e-08,   1.24586794e-08],\n",
       "       [  1.23456790e-08,  -6.70002469e-03,   1.23456790e-08],\n",
       "       [  1.23445809e-08,  -6.70002469e-03,   1.23468274e-08],\n",
       "       [  1.23436827e-08,  -6.70002469e-03,   1.23479459e-08],\n",
       "       [  1.23424568e-08,  -6.70002469e-03,   1.23491486e-08],\n",
       "       [  1.23415794e-08,  -6.70002469e-03,   1.23502597e-08],\n",
       "       [  1.23408043e-08,  -6.70002469e-03,   1.23512877e-08],\n",
       "       [  1.23401278e-08,  -6.70002469e-03,   1.23522357e-08],\n",
       "       [  1.23381001e-08,  -6.70002469e-03,   1.23537697e-08],\n",
       "       [  1.23368318e-08,  -6.70002469e-03,   1.23545220e-08],\n",
       "       [  1.23357145e-08,  -6.70002469e-03,   1.23558099e-08],\n",
       "       [  1.23346164e-08,  -6.70002469e-03,   1.23567584e-08],\n",
       "       [  1.23335440e-08,  -6.70002469e-03,   1.23582357e-08],\n",
       "       [  1.23323939e-08,  -6.70002469e-03,   1.23591924e-08],\n",
       "       [  1.23312850e-08,  -6.70002469e-03,   1.23602721e-08],\n",
       "       [  1.23308327e-08,  -6.70002469e-03,   1.23595699e-08],\n",
       "       [  1.23329694e-08,  -6.70002469e-03,   1.23558058e-08],\n",
       "       [  1.23287709e-08,  -6.70002469e-03,   1.23614462e-08],\n",
       "       [  1.23269452e-08,  -6.70002469e-03,   1.23641857e-08],\n",
       "       [  1.23300035e-08,  -6.70002469e-03,   1.23583956e-08],\n",
       "       [  1.23253066e-08,  -6.70002469e-03,   1.23649681e-08],\n",
       "       [  1.23274461e-08,  -6.70002469e-03,   1.23609204e-08],\n",
       "       [  1.23246815e-08,  -6.70002469e-03,   1.23643845e-08],\n",
       "       [  1.23254254e-08,  -6.70002469e-03,   1.23627202e-08],\n",
       "       [  1.23388557e-08,  -6.70002469e-03,   1.23462926e-08],\n",
       "       [  1.23224131e-08,  -6.70002469e-03,   1.23659518e-08],\n",
       "       [  1.23224768e-08,  -6.70002469e-03,   1.23653080e-08],\n",
       "       [  1.23258185e-08,  -6.70002469e-03,   1.23604464e-08],\n",
       "       [  1.23242266e-08,  -6.70002469e-03,   1.23620646e-08],\n",
       "       [  1.23226614e-08,  -6.70002469e-03,   1.23636644e-08],\n",
       "       [  1.23214975e-08,  -6.70002469e-03,   1.23647526e-08],\n",
       "       [  1.23281266e-08,  -6.70002468e-03,   1.23562184e-08],\n",
       "       [  1.23317139e-08,  -6.70002468e-03,   1.23517749e-08],\n",
       "       [  1.23206533e-08,  -6.70002469e-03,   1.23645925e-08],\n",
       "       [  1.23199632e-08,  -6.70002469e-03,   1.23650675e-08],\n",
       "       [  1.23401510e-08,  -6.70002468e-03,   1.23417218e-08],\n",
       "       [  1.23190470e-08,  -6.70002468e-03,   1.23654327e-08],\n",
       "       [  1.23343023e-08,  -6.70002468e-03,   1.23473961e-08],\n",
       "       [  1.23334053e-08,  -6.70002468e-03,   1.23480777e-08],\n",
       "       [  1.23228988e-08,  -6.70002468e-03,   1.23596741e-08],\n",
       "       [  1.23388233e-08,  -6.70002468e-03,   1.23416811e-08],\n",
       "       [  1.23247802e-08,  -6.70002468e-03,   1.23568244e-08],\n",
       "       [  1.23260026e-08,  -6.70002468e-03,   1.23551077e-08],\n",
       "       [  1.23247062e-08,  -6.70002468e-03,   1.23562685e-08],\n",
       "       [  1.23464929e-08,  -6.70002468e-03,   1.23326434e-08],\n",
       "       [  1.23360397e-08,  -6.70002468e-03,   1.23431851e-08],\n",
       "       [  1.23530306e-08,  -6.70002468e-03,   1.23255992e-08],\n",
       "       [  1.23360336e-08,  -6.70002468e-03,   1.23426123e-08],\n",
       "       [  1.23526713e-08,  -6.70002468e-03,   1.23253757e-08],\n",
       "       [  1.23630901e-08,  -6.70002468e-03,   1.23151870e-08],\n",
       "       [  1.23497681e-08,  -6.70002468e-03,   1.23276629e-08],\n",
       "       [  1.23405923e-08,  -6.70002468e-03,   1.23366844e-08],\n",
       "       [  1.23515935e-08,  -6.70002468e-03,   1.23252884e-08],\n",
       "       [  1.23715132e-08,  -6.70002468e-03,   1.23063551e-08],\n",
       "       [  1.23686470e-08,  -6.70002468e-03,   1.23085988e-08],\n",
       "       [  1.23585787e-08,  -6.70002468e-03,   1.23176534e-08],\n",
       "       [  1.23448383e-08,  -6.70002468e-03,   1.23309081e-08],\n",
       "       [  1.23764190e-08,  -6.70002468e-03,   1.23007845e-08],\n",
       "       [  1.23883501e-08,  -6.70002468e-03,   1.22906154e-08],\n",
       "       [  1.23911391e-08,  -6.70002468e-03,   1.22880910e-08],\n",
       "       [  1.23816674e-08,  -6.70002468e-03,   1.22953105e-08],\n",
       "       [  1.23774706e-08,  -6.70002468e-03,   1.22985726e-08],\n",
       "       [  1.23732394e-08,  -6.70002468e-03,   1.23019940e-08],\n",
       "       [  1.23788009e-08,  -6.70002468e-03,   1.22967684e-08],\n",
       "       [  1.23681738e-08,  -6.70002467e-03,   1.23059930e-08],\n",
       "       [  1.24096893e-08,  -6.70002468e-03,   1.22731832e-08],\n",
       "       [  1.23938951e-08,  -6.70002468e-03,   1.22832415e-08],\n",
       "       [  1.24152418e-08,  -6.70002468e-03,   1.22696112e-08],\n",
       "       [  1.23991839e-08,  -6.70002468e-03,   1.22784259e-08],\n",
       "       [  1.23841820e-08,  -6.70002467e-03,   1.22901615e-08],\n",
       "       [  1.24187906e-08,  -6.70002468e-03,   1.22660807e-08],\n",
       "       [  1.23996153e-08,  -6.70002468e-03,   1.22768965e-08],\n",
       "       [  1.24070034e-08,  -6.70002468e-03,   1.22710962e-08],\n",
       "       [  1.24235797e-08,  -6.70002469e-03,   1.22625547e-08],\n",
       "       [  1.24247056e-08,  -6.70002469e-03,   1.22614079e-08],\n",
       "       [  1.23983296e-08,  -6.70002467e-03,   1.22763715e-08],\n",
       "       [  1.24213233e-08,  -6.70002468e-03,   1.22604528e-08],\n",
       "       [  1.24149392e-08,  -6.70002468e-03,   1.22634444e-08],\n",
       "       [  1.24286083e-08,  -6.70002469e-03,   1.22567572e-08],\n",
       "       [  1.24320248e-08,  -6.70002469e-03,   1.22597176e-08],\n",
       "       [  1.24273326e-08,  -6.70002468e-03,   1.22551222e-08],\n",
       "       [  1.24341448e-08,  -6.70002469e-03,   1.22579984e-08],\n",
       "       [  1.24293551e-08,  -6.70002468e-03,   1.22528493e-08],\n",
       "       [  1.24328191e-08,  -6.70002470e-03,   1.22643154e-08],\n",
       "       [  1.24343675e-08,  -6.70002468e-03,   1.22498577e-08],\n",
       "       [  1.24376678e-08,  -6.70002469e-03,   1.22490826e-08],\n",
       "       [  1.24398700e-08,  -6.70002469e-03,   1.22514397e-08],\n",
       "       [  1.24377331e-08,  -6.70002468e-03,   1.22463881e-08],\n",
       "       [  1.24357294e-08,  -6.70002470e-03,   1.22635947e-08],\n",
       "       [  1.24425912e-08,  -6.70002469e-03,   1.22449428e-08],\n",
       "       [  1.24410415e-08,  -6.70002470e-03,   1.22558988e-08],\n",
       "       [  1.24451600e-08,  -6.70002469e-03,   1.22432292e-08],\n",
       "       [  1.24436887e-08,  -6.70002470e-03,   1.22528788e-08],\n",
       "       [  1.24443568e-08,  -6.70002470e-03,   1.22526863e-08],\n",
       "       [  1.24462901e-08,  -6.70002470e-03,   1.22499125e-08],\n",
       "       [  1.24400962e-08,  -6.70002470e-03,   1.22616397e-08],\n",
       "       [  1.24497432e-08,  -6.70002469e-03,   1.22448461e-08],\n",
       "       [  1.24253479e-08,  -6.70002471e-03,   1.22832500e-08],\n",
       "       [  1.24400028e-08,  -6.70002470e-03,   1.22636578e-08],\n",
       "       [  1.24541847e-08,  -6.70002469e-03,   1.22345966e-08],\n",
       "       [  1.24101336e-08,  -6.70002471e-03,   1.23032608e-08],\n",
       "       [  1.23456790e-08,   1.23456790e-08,  -6.70002469e-03],\n",
       "       [  1.23463732e-08,   1.23454663e-08,  -6.70002469e-03],\n",
       "       [  1.23475225e-08,   1.23453867e-08,  -6.70002469e-03],\n",
       "       [  1.23489280e-08,   1.23455403e-08,  -6.70002469e-03],\n",
       "       [  1.23492850e-08,   1.23450631e-08,  -6.70002469e-03],\n",
       "       [  1.23505416e-08,   1.23450586e-08,  -6.70002470e-03],\n",
       "       [  1.23504178e-08,   1.23445421e-08,  -6.70002469e-03],\n",
       "       [  1.23514644e-08,   1.23444259e-08,  -6.70002470e-03],\n",
       "       [  1.23511368e-08,   1.23439557e-08,  -6.70002470e-03],\n",
       "       [  1.23541622e-08,   1.23444391e-08,  -6.70002470e-03],\n",
       "       [  1.23520589e-08,   1.23434351e-08,  -6.70002470e-03],\n",
       "       [  1.23533032e-08,   1.23433348e-08,  -6.70002470e-03],\n",
       "       [  1.23510632e-08,   1.23426291e-08,  -6.70002469e-03],\n",
       "       [  1.23564194e-08,   1.23433492e-08,  -6.70002470e-03],\n",
       "       [  1.23537578e-08,   1.23423835e-08,  -6.70002470e-03],\n",
       "       [  1.23471867e-08,   1.23414555e-08,  -6.70002469e-03],\n",
       "       [  1.23559534e-08,   1.23421009e-08,  -6.70002470e-03],\n",
       "       [  1.23493116e-08,   1.23409868e-08,  -6.70002469e-03],\n",
       "       [  1.23463813e-08,   1.23405793e-08,  -6.70002469e-03],\n",
       "       [  1.23511495e-08,   1.23405360e-08,  -6.70002469e-03],\n",
       "       [  1.23461845e-08,   1.23400073e-08,  -6.70002469e-03],\n",
       "       [  1.23450238e-08,   1.23397098e-08,  -6.70002468e-03],\n",
       "       [  1.23414548e-08,   1.23394732e-08,  -6.70002468e-03],\n",
       "       [  1.23500614e-08,   1.23392991e-08,  -6.70002469e-03],\n",
       "       [  1.23478395e-08,   1.23389131e-08,  -6.70002469e-03],\n",
       "       [  1.23417511e-08,   1.23386022e-08,  -6.70002468e-03],\n",
       "       [  1.23493331e-08,   1.23384008e-08,  -6.70002469e-03],\n",
       "       [  1.23435297e-08,   1.23380048e-08,  -6.70002468e-03],\n",
       "       [  1.23468260e-08,   1.23377477e-08,  -6.70002468e-03],\n",
       "       [  1.23558669e-08,   1.23379934e-08,  -6.70002469e-03],\n",
       "       [  1.23374416e-08,   1.23373212e-08,  -6.70002467e-03],\n",
       "       [  1.23273150e-08,   1.23380030e-08,  -6.70002467e-03],\n",
       "       [  1.23389873e-08,   1.23366707e-08,  -6.70002468e-03],\n",
       "       [  1.23341258e-08,   1.23366405e-08,  -6.70002467e-03],\n",
       "       [  1.23361966e-08,   1.23362142e-08,  -6.70002467e-03],\n",
       "       [  1.23365630e-08,   1.23359026e-08,  -6.70002467e-03],\n",
       "       [  1.23282228e-08,   1.23362613e-08,  -6.70002466e-03],\n",
       "       [  1.23198863e-08,   1.23371750e-08,  -6.70002466e-03],\n",
       "       [  1.23114592e-08,   1.23389434e-08,  -6.70002465e-03],\n",
       "       [  1.23174490e-08,   1.23369234e-08,  -6.70002465e-03],\n",
       "       [  1.23286185e-08,   1.23349745e-08,  -6.70002466e-03],\n",
       "       [  1.23304241e-08,   1.23345153e-08,  -6.70002466e-03],\n",
       "       [  1.23084113e-08,   1.23380435e-08,  -6.70002465e-03],\n",
       "       [  1.23124622e-08,   1.23364852e-08,  -6.70002465e-03],\n",
       "       [  1.23170877e-08,   1.23351809e-08,  -6.70002465e-03],\n",
       "       [  1.23184373e-08,   1.23346166e-08,  -6.70002465e-03],\n",
       "       [  1.23141094e-08,   1.23350046e-08,  -6.70002465e-03],\n",
       "       [  1.22989163e-08,   1.23391874e-08,  -6.70002464e-03],\n",
       "       [  1.23038438e-08,   1.23367029e-08,  -6.70002464e-03],\n",
       "       [  1.23119375e-08,   1.23343274e-08,  -6.70002465e-03],\n",
       "       [  1.22948052e-08,   1.23393852e-08,  -6.70002463e-03],\n",
       "       [  1.22955213e-08,   1.23383389e-08,  -6.70002463e-03],\n",
       "       [  1.22968049e-08,   1.23372019e-08,  -6.70002463e-03],\n",
       "       [  1.22903076e-08,   1.23399388e-08,  -6.70002463e-03],\n",
       "       [  1.22957794e-08,   1.23365434e-08,  -6.70002463e-03],\n",
       "       [  1.22858444e-08,   1.23419774e-08,  -6.70002463e-03],\n",
       "       [  1.22952870e-08,   1.23357161e-08,  -6.70002463e-03],\n",
       "       [  1.22896316e-08,   1.23374613e-08,  -6.70002463e-03],\n",
       "       [  1.22903296e-08,   1.23365578e-08,  -6.70002463e-03],\n",
       "       [  1.22832789e-08,   1.23398642e-08,  -6.70002462e-03],\n",
       "       [  1.22827881e-08,   1.23393217e-08,  -6.70002462e-03],\n",
       "       [  1.22796218e-08,   1.23411765e-08,  -6.70002462e-03],\n",
       "       [  1.22773749e-08,   1.23430668e-08,  -6.70002462e-03],\n",
       "       [  1.22760882e-08,   1.23457106e-08,  -6.70002462e-03],\n",
       "       [  1.22748776e-08,   1.23449586e-08,  -6.70002462e-03],\n",
       "       [  1.22739797e-08,   1.23460840e-08,  -6.70002462e-03],\n",
       "       [  1.22780951e-08,   1.23518304e-08,  -6.70002463e-03],\n",
       "       [  1.22716637e-08,   1.23456554e-08,  -6.70002462e-03],\n",
       "       [  1.22712151e-08,   1.23418432e-08,  -6.70002461e-03],\n",
       "       [  1.22747588e-08,   1.23519296e-08,  -6.70002463e-03],\n",
       "       [  1.22815945e-08,   1.23559596e-08,  -6.70002464e-03],\n",
       "       [  1.22708050e-08,   1.23507062e-08,  -6.70002462e-03],\n",
       "       [  1.22749456e-08,   1.23540900e-08,  -6.70002463e-03],\n",
       "       [  1.22668563e-08,   1.23490530e-08,  -6.70002462e-03],\n",
       "       [  1.22711953e-08,   1.23533453e-08,  -6.70002462e-03],\n",
       "       [  1.22753147e-08,   1.23559848e-08,  -6.70002463e-03],\n",
       "       [  1.22738798e-08,   1.23559049e-08,  -6.70002463e-03],\n",
       "       [  1.22673589e-08,   1.23531586e-08,  -6.70002462e-03],\n",
       "       [  1.22905797e-08,   1.23619959e-08,  -6.70002465e-03],\n",
       "       [  1.22749209e-08,   1.23578640e-08,  -6.70002463e-03],\n",
       "       [  1.22852357e-08,   1.23614617e-08,  -6.70002465e-03],\n",
       "       [  1.22803943e-08,   1.23605459e-08,  -6.70002464e-03],\n",
       "       [  1.22884735e-08,   1.23629918e-08,  -6.70002465e-03],\n",
       "       [  1.22915794e-08,   1.23640126e-08,  -6.70002466e-03],\n",
       "       [  1.22777779e-08,   1.23610347e-08,  -6.70002464e-03],\n",
       "       [  1.22949997e-08,   1.23653535e-08,  -6.70002466e-03],\n",
       "       [  1.23208912e-08,   1.23689624e-08,  -6.70002469e-03],\n",
       "       [  1.23213575e-08,   1.23692944e-08,  -6.70002469e-03],\n",
       "       [  1.23022885e-08,   1.23675003e-08,  -6.70002467e-03],\n",
       "       [  1.23225609e-08,   1.23699741e-08,  -6.70002469e-03],\n",
       "       [  1.22745886e-08,   1.23625959e-08,  -6.70002464e-03],\n",
       "       [  1.23257593e-08,   1.23707795e-08,  -6.70002470e-03],\n",
       "       [  1.23024960e-08,   1.23687927e-08,  -6.70002467e-03],\n",
       "       [  1.22740742e-08,   1.23636602e-08,  -6.70002464e-03],\n",
       "       [  1.23110629e-08,   1.23704274e-08,  -6.70002468e-03],\n",
       "       [  1.23313471e-08,   1.23722458e-08,  -6.70002470e-03],\n",
       "       [  1.23013359e-08,   1.23698925e-08,  -6.70002467e-03],\n",
       "       [  1.23602561e-08,   1.23731435e-08,  -6.70002473e-03],\n",
       "       [  1.23520758e-08,   1.23735451e-08,  -6.70002473e-03],\n",
       "       [  1.23004886e-08,   1.23707193e-08,  -6.70002467e-03]])"
      ]
     },
     "execution_count": 71,
     "metadata": {},
     "output_type": "execute_result"
    }
   ],
   "source": [
    "dscores"
   ]
  },
  {
   "cell_type": "code",
   "execution_count": 79,
   "metadata": {
    "collapsed": true
   },
   "outputs": [],
   "source": [
    "dW = np.dot(X.T, dscores)\n",
    "db = np.sum(dscores, axis=0, keepdims=True)\n",
    "dW += reg*W # don't forget the regularization gradient"
   ]
  },
  {
   "cell_type": "code",
   "execution_count": 80,
   "metadata": {
    "collapsed": false
   },
   "outputs": [
    {
     "data": {
      "text/plain": [
       "array([[  3.55711275e-05,   4.17147858e-05,  -7.72859133e-05]])"
      ]
     },
     "execution_count": 80,
     "metadata": {},
     "output_type": "execute_result"
    }
   ],
   "source": [
    "db"
   ]
  },
  {
   "cell_type": "code",
   "execution_count": 73,
   "metadata": {
    "collapsed": true
   },
   "outputs": [],
   "source": [
    "# perform a parameter update\n",
    "W += -step_size * dW\n",
    "b += -step_size * db"
   ]
  },
  {
   "cell_type": "code",
   "execution_count": 78,
   "metadata": {
    "collapsed": false
   },
   "outputs": [
    {
     "name": "stdout",
     "output_type": "stream",
     "text": [
      "iteration 0: loss 1.099940\n",
      "iteration 10: loss 0.913451\n",
      "iteration 20: loss 0.844687\n",
      "iteration 30: loss 0.813855\n",
      "iteration 40: loss 0.798067\n",
      "iteration 50: loss 0.789248\n",
      "iteration 60: loss 0.784020\n",
      "iteration 70: loss 0.780788\n",
      "iteration 80: loss 0.778726\n",
      "iteration 90: loss 0.777379\n",
      "iteration 100: loss 0.776484\n",
      "iteration 110: loss 0.775880\n",
      "iteration 120: loss 0.775467\n",
      "iteration 130: loss 0.775183\n",
      "iteration 140: loss 0.774985\n",
      "iteration 150: loss 0.774847\n",
      "iteration 160: loss 0.774750\n",
      "iteration 170: loss 0.774682\n",
      "iteration 180: loss 0.774634\n",
      "iteration 190: loss 0.774599\n"
     ]
    }
   ],
   "source": [
    "#Putting it together\n",
    "#Train a Linear Classifier\n",
    "\n",
    "# initialize parameters randomly\n",
    "W = 0.01 * np.random.randn(D,K)\n",
    "b = np.zeros((1,K))\n",
    "\n",
    "# some hyperparameters\n",
    "step_size = 1e-0\n",
    "reg = 1e-3 # regularization strength\n",
    "\n",
    "# gradient descent loop\n",
    "num_examples = X.shape[0]\n",
    "for i in xrange(200):\n",
    "  \n",
    "  # evaluate class scores, [N x K]\n",
    "  scores = np.dot(X, W) + b \n",
    "  \n",
    "  # compute the class probabilities\n",
    "  exp_scores = np.exp(scores)\n",
    "  probs = exp_scores / np.sum(exp_scores, axis=1, keepdims=True) # [N x K]\n",
    "  \n",
    "  # compute the loss: average cross-entropy loss and regularization\n",
    "  corect_logprobs = -np.log(probs[range(num_examples),y])\n",
    "  data_loss = np.sum(corect_logprobs)/num_examples\n",
    "  reg_loss = 0.5*reg*np.sum(W*W)\n",
    "  loss = data_loss + reg_loss\n",
    "  if i % 10 == 0:\n",
    "    print \"iteration %d: loss %f\" % (i, loss)\n",
    "  \n",
    "  # compute the gradient on scores\n",
    "  dscores = probs\n",
    "  dscores[range(num_examples),y] -= 1\n",
    "  dscores /= num_examples\n",
    "  \n",
    "  # backpropate the gradient to the parameters (W,b)\n",
    "  dW = np.dot(X.T, dscores)\n",
    "  db = np.sum(dscores, axis=0, keepdims=True)\n",
    "  \n",
    "  dW += reg*W # regularization gradient\n",
    "  \n",
    "  # perform a parameter update\n",
    "  W += -step_size * dW\n",
    "  b += -step_size * db"
   ]
  },
  {
   "cell_type": "code",
   "execution_count": 75,
   "metadata": {
    "collapsed": false
   },
   "outputs": [
    {
     "name": "stdout",
     "output_type": "stream",
     "text": [
      "training accuracy: 0.52\n"
     ]
    }
   ],
   "source": [
    "scores = np.dot(X, W) + b\n",
    "predicted_class = np.argmax(scores, axis=1)\n",
    "print 'training accuracy: %.2f' % (np.mean(predicted_class == y))"
   ]
  },
  {
   "cell_type": "code",
   "execution_count": 94,
   "metadata": {
    "collapsed": false
   },
   "outputs": [
    {
     "data": {
      "image/png": "[encoded data removed]",
      "text/plain": [
       "<matplotlib.figure.Figure at 0x113a77310>"
      ]
     },
     "metadata": {},
     "output_type": "display_data"
    }
   ],
   "source": [
    "\n",
    "# plot the resulting classifier\n",
    "h = 0.02\n",
    "x_min, x_max = X[:, 0].min() - 1, X[:, 0].max() + 1\n",
    "y_min, y_max = X[:, 1].min() - 1, X[:, 1].max() + 1\n",
    "xx, yy = np.meshgrid(np.arange(x_min, x_max, h),\n",
    "                     np.arange(y_min, y_max, h))\n",
    "Z = np.dot(np.c_[xx.ravel(), yy.ravel()], W) + b\n",
    "Z = np.argmax(Z, axis=1)\n",
    "Z = Z.reshape(xx.shape)\n",
    "fig = plt.figure()\n",
    "plt.contourf(xx, yy, Z, cmap=plt.cm.Spectral, alpha=0.8)\n",
    "plt.scatter(X[:, 0], X[:, 1], c=y, s=40, cmap=plt.cm.Spectral)\n",
    "plt.xlim(xx.min(), xx.max())\n",
    "plt.ylim(yy.min(), yy.max())\n",
    "plt.show()\n",
    "#fig.savefig('spiral_linear.png')"
   ]
  },
  {
   "cell_type": "code",
   "execution_count": 95,
   "metadata": {
    "collapsed": true
   },
   "outputs": [],
   "source": [
    "#Try Neural Nets\n",
    "# initialize parameters randomly\n",
    "h = 100 # size of hidden layer\n",
    "W = 0.01 * np.random.randn(D,h)\n",
    "b = np.zeros((1,h))\n",
    "W2 = 0.01 * np.random.randn(h,K)\n",
    "b2 = np.zeros((1,K))"
   ]
  },
  {
   "cell_type": "code",
   "execution_count": 96,
   "metadata": {
    "collapsed": true
   },
   "outputs": [],
   "source": [
    "# evaluate class scores with a 2-layer Neural Network\n",
    "hidden_layer = np.maximum(0, np.dot(X, W) + b) # note, ReLU activation\n",
    "scores = np.dot(hidden_layer, W2) + b2"
   ]
  },
  {
   "cell_type": "code",
   "execution_count": 97,
   "metadata": {
    "collapsed": true
   },
   "outputs": [],
   "source": [
    "# backpropate the gradient to the parameters\n",
    "# first backprop into parameters W2 and b2\n",
    "dW2 = np.dot(hidden_layer.T, dscores)\n",
    "db2 = np.sum(dscores, axis=0, keepdims=True)"
   ]
  },
  {
   "cell_type": "code",
   "execution_count": 98,
   "metadata": {
    "collapsed": false
   },
   "outputs": [
    {
     "name": "stdout",
     "output_type": "stream",
     "text": [
      "iteration 0: loss 1.098569\n",
      "iteration 1000: loss 0.424517\n",
      "iteration 2000: loss 0.333919\n",
      "iteration 3000: loss 0.264445\n",
      "iteration 4000: loss 0.260990\n",
      "iteration 5000: loss 0.260623\n",
      "iteration 6000: loss 0.261370\n",
      "iteration 7000: loss 0.260792\n",
      "iteration 8000: loss 0.259378\n",
      "iteration 9000: loss 0.259832\n"
     ]
    }
   ],
   "source": [
    "#All code\n",
    "# initialize parameters randomly\n",
    "h = 100 # size of hidden layer\n",
    "W = 0.01 * np.random.randn(D,h)\n",
    "b = np.zeros((1,h))\n",
    "W2 = 0.01 * np.random.randn(h,K)\n",
    "b2 = np.zeros((1,K))\n",
    "\n",
    "# some hyperparameters\n",
    "step_size = 1e-0\n",
    "reg = 1e-3 # regularization strength\n",
    "\n",
    "# gradient descent loop\n",
    "num_examples = X.shape[0]\n",
    "for i in xrange(10000):\n",
    "  \n",
    "  # evaluate class scores, [N x K]\n",
    "  hidden_layer = np.maximum(0, np.dot(X, W) + b) # note, ReLU activation\n",
    "  scores = np.dot(hidden_layer, W2) + b2\n",
    "  \n",
    "  # compute the class probabilities\n",
    "  exp_scores = np.exp(scores)\n",
    "  probs = exp_scores / np.sum(exp_scores, axis=1, keepdims=True) # [N x K]\n",
    "  \n",
    "  # compute the loss: average cross-entropy loss and regularization\n",
    "  corect_logprobs = -np.log(probs[range(num_examples),y])\n",
    "  data_loss = np.sum(corect_logprobs)/num_examples\n",
    "  reg_loss = 0.5*reg*np.sum(W*W) + 0.5*reg*np.sum(W2*W2)\n",
    "  loss = data_loss + reg_loss\n",
    "  if i % 1000 == 0:\n",
    "    print \"iteration %d: loss %f\" % (i, loss)\n",
    "  \n",
    "  # compute the gradient on scores\n",
    "  dscores = probs\n",
    "  dscores[range(num_examples),y] -= 1\n",
    "  dscores /= num_examples\n",
    "  \n",
    "  # backpropate the gradient to the parameters\n",
    "  # first backprop into parameters W2 and b2\n",
    "  dW2 = np.dot(hidden_layer.T, dscores)\n",
    "  db2 = np.sum(dscores, axis=0, keepdims=True)\n",
    "  # next backprop into hidden layer\n",
    "  dhidden = np.dot(dscores, W2.T)\n",
    "  # backprop the ReLU non-linearity\n",
    "  dhidden[hidden_layer <= 0] = 0\n",
    "  # finally into W,b\n",
    "  dW = np.dot(X.T, dhidden)\n",
    "  db = np.sum(dhidden, axis=0, keepdims=True)\n",
    "  \n",
    "  # add regularization gradient contribution\n",
    "  dW2 += reg * W2\n",
    "  dW += reg * W\n",
    "  \n",
    "  # perform a parameter update\n",
    "  W += -step_size * dW\n",
    "  b += -step_size * db\n",
    "  W2 += -step_size * dW2\n",
    "  b2 += -step_size * db2"
   ]
  },
  {
   "cell_type": "code",
   "execution_count": 99,
   "metadata": {
    "collapsed": false
   },
   "outputs": [
    {
     "name": "stdout",
     "output_type": "stream",
     "text": [
      "training accuracy: 0.98\n"
     ]
    }
   ],
   "source": [
    "# evaluate training set accuracy\n",
    "hidden_layer = np.maximum(0, np.dot(X, W) + b)\n",
    "scores = np.dot(hidden_layer, W2) + b2\n",
    "predicted_class = np.argmax(scores, axis=1)\n",
    "print 'training accuracy: %.2f' % (np.mean(predicted_class == y))"
   ]
  },
  {
   "cell_type": "code",
   "execution_count": 100,
   "metadata": {
    "collapsed": false
   },
   "outputs": [
    {
     "data": {
      "image/png": "[encoded data removed]",
      "text/plain": [
       "<matplotlib.figure.Figure at 0x1139c5690>"
      ]
     },
     "metadata": {},
     "output_type": "display_data"
    }
   ],
   "source": [
    "# plot the resulting classifier\n",
    "h = 0.02\n",
    "x_min, x_max = X[:, 0].min() - 1, X[:, 0].max() + 1\n",
    "y_min, y_max = X[:, 1].min() - 1, X[:, 1].max() + 1\n",
    "xx, yy = np.meshgrid(np.arange(x_min, x_max, h),\n",
    "                     np.arange(y_min, y_max, h))\n",
    "Z = np.dot(np.maximum(0, np.dot(np.c_[xx.ravel(), yy.ravel()], W) + b), W2) + b2\n",
    "Z = np.argmax(Z, axis=1)\n",
    "Z = Z.reshape(xx.shape)\n",
    "fig = plt.figure()\n",
    "plt.contourf(xx, yy, Z, cmap=plt.cm.Spectral, alpha=0.8)\n",
    "plt.scatter(X[:, 0], X[:, 1], c=y, s=40, cmap=plt.cm.Spectral)\n",
    "plt.xlim(xx.min(), xx.max())\n",
    "plt.ylim(yy.min(), yy.max())\n",
    "plt.show()\n",
    "#fig.savefig('spiral_net.png')"
   ]
  },
  {
   "cell_type": "code",
   "execution_count": null,
   "metadata": {
    "collapsed": true
   },
   "outputs": [],
   "source": []
  }
 ],
 "metadata": {
  "kernelspec": {
   "display_name": "Python2",
   "language": "python",
   "name": "python2"
  },
  "language_info": {
   "codemirror_mode": {
    "name": "ipython",
    "version": 2
   },
   "file_extension": ".py",
   "mimetype": "text/x-python",
   "name": "python",
   "nbconvert_exporter": "python",
   "pygments_lexer": "ipython2",
   "version": "2.7.13"
  }
 },
 "nbformat": 4,
 "nbformat_minor": 2
}
