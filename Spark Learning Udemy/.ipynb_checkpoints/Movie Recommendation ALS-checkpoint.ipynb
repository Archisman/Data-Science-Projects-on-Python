{
 "cells": [
  {
   "cell_type": "code",
   "execution_count": 1,
   "metadata": {
    "collapsed": true
   },
   "outputs": [],
   "source": [
    "import sys\n",
    "from pyspark import SparkConf, SparkContext\n",
    "from pyspark.mllib.recommendation import ALS, Rating"
   ]
  },
  {
   "cell_type": "code",
   "execution_count": 8,
   "metadata": {
    "collapsed": true
   },
   "outputs": [],
   "source": [
    "def loadMovieNames():\n",
    "    movieNames = {}\n",
    "    with open(\"/Users/archismanroy/Learning/Data/ml-100k/u.ITEM\") as f:\n",
    "        for line in f:\n",
    "            fields = line.split('|')\n",
    "            movieNames[int(fields[0])] = fields[1]\n",
    "    return movieNames"
   ]
  },
  {
   "cell_type": "code",
   "execution_count": 9,
   "metadata": {
    "collapsed": false
   },
   "outputs": [
    {
     "name": "stdout",
     "output_type": "stream",
     "text": [
      "\n",
      "Loading movie names...\n"
     ]
    }
   ],
   "source": [
    "print(\"\\nLoading movie names...\")\n",
    "nameDict = loadMovieNames()"
   ]
  },
  {
   "cell_type": "code",
   "execution_count": 13,
   "metadata": {
    "collapsed": true
   },
   "outputs": [],
   "source": [
    "data = sc.textFile(\"/Users/archismanroy/Learning/Data/ml-100k/u.data\")\n",
    "\n",
    "ratings = data.map(lambda l: l.split()).map(lambda l: Rating(int(l[0]), int(l[1]), float(l[2]))).cache()"
   ]
  },
  {
   "cell_type": "code",
   "execution_count": 14,
   "metadata": {
    "collapsed": false
   },
   "outputs": [
    {
     "name": "stdout",
     "output_type": "stream",
     "text": [
      "\n",
      "Training recommendation model...\n"
     ]
    }
   ],
   "source": [
    "# Build the recommendation model using Alternating Least Squares\n",
    "print(\"\\nTraining recommendation model...\")\n",
    "rank = 10\n",
    "# Lowered numIterations to ensure it works on lower-end systems\n",
    "numIterations = 6\n",
    "model = ALS.train(ratings, rank, numIterations)\n",
    "\n",
    "userID = 10"
   ]
  },
  {
   "cell_type": "code",
   "execution_count": 15,
   "metadata": {
    "collapsed": false
   },
   "outputs": [
    {
     "name": "stdout",
     "output_type": "stream",
     "text": [
      "\n",
      "Ratings for user ID 10:\n",
      "French Twist (Gazon maudit) (1995): 4.0\n",
      "Sabrina (1954): 4.0\n",
      "Brazil (1985): 3.0\n",
      "Laura (1944): 5.0\n",
      "Twelve Monkeys (1995): 4.0\n",
      "Fargo (1996): 5.0\n",
      "Smoke (1995): 3.0\n",
      "Sunset Blvd. (1950): 5.0\n",
      "Secrets & Lies (1996): 5.0\n",
      "Bonnie and Clyde (1967): 5.0\n",
      "Evita (1996): 4.0\n",
      "Boogie Nights (1997): 4.0\n",
      "Dial M for Murder (1954): 4.0\n",
      "Notorious (1946): 4.0\n",
      "Manchurian Candidate, The (1962): 4.0\n",
      "Secret of Roan Inish, The (1994): 4.0\n",
      "Stand by Me (1986): 5.0\n",
      "Mother (1996): 4.0\n",
      "Hoop Dreams (1994): 4.0\n",
      "Unforgiven (1992): 4.0\n",
      "Cape Fear (1991): 4.0\n",
      "Lone Star (1996): 5.0\n",
      "Emma (1996): 4.0\n",
      "Get Shorty (1995): 4.0\n",
      "House of the Spirits, The (1993): 3.0\n",
      "Braveheart (1995): 5.0\n",
      "Dirty Dancing (1987): 4.0\n",
      "Liar Liar (1997): 3.0\n",
      "M (1931): 5.0\n",
      "Shawshank Redemption, The (1994): 4.0\n",
      "Barcelona (1994): 3.0\n",
      "39 Steps, The (1935): 4.0\n",
      "Shining, The (1980): 5.0\n",
      "Sling Blade (1996): 5.0\n",
      "Glory (1989): 4.0\n",
      "Substance of Fire, The (1996): 4.0\n",
      "Singin' in the Rain (1952): 4.0\n",
      "City Hall (1996): 4.0\n",
      "Clueless (1995): 4.0\n",
      "My Left Foot (1989): 4.0\n",
      "2001: A Space Odyssey (1968): 5.0\n",
      "African Queen, The (1951): 5.0\n",
      "Abyss, The (1989): 4.0\n",
      "Amadeus (1984): 5.0\n",
      "It's a Wonderful Life (1946): 5.0\n",
      "True Lies (1994): 4.0\n",
      "Treasure of the Sierra Madre, The (1948): 5.0\n",
      "Reservoir Dogs (1992): 4.0\n",
      "Widows' Peak (1994): 5.0\n",
      "Snow White and the Seven Dwarfs (1937): 5.0\n",
      "Sting, The (1973): 4.0\n",
      "Beauty and the Beast (1991): 4.0\n",
      "Kicking and Screaming (1995): 3.0\n",
      "Carrie (1976): 4.0\n",
      "Cinderella (1950): 4.0\n",
      "Glengarry Glen Ross (1992): 4.0\n",
      "Aliens (1986): 4.0\n",
      "Butch Cassidy and the Sundance Kid (1969): 5.0\n",
      "Bad Moon (1996): 4.0\n",
      "Sense and Sensibility (1995): 4.0\n",
      "Bridges of Madison County, The (1995): 4.0\n",
      "Jaws (1975): 4.0\n",
      "Monty Python and the Holy Grail (1974): 4.0\n",
      "Bringing Up Baby (1938): 4.0\n",
      "Trainspotting (1996): 4.0\n",
      "Full Monty, The (1997): 4.0\n",
      "Thin Man, The (1934): 4.0\n",
      "Around the World in 80 Days (1956): 4.0\n",
      "Terminator, The (1984): 4.0\n",
      "Deer Hunter, The (1978): 4.0\n",
      "Mighty Aphrodite (1995): 3.0\n",
      "Alien (1979): 5.0\n",
      "Wizard of Oz, The (1939): 5.0\n",
      "Alice in Wonderland (1951): 4.0\n",
      "Tin Men (1987): 4.0\n",
      "Blues Brothers, The (1980): 4.0\n",
      "Bridge on the River Kwai, The (1957): 4.0\n",
      "Better Off Dead... (1985): 4.0\n",
      "Heavenly Creatures (1994): 4.0\n",
      "Casablanca (1942): 5.0\n",
      "Pulp Fiction (1994): 5.0\n",
      "Rear Window (1954): 5.0\n",
      "Godfather, The (1972): 5.0\n",
      "Gone with the Wind (1939): 5.0\n",
      "Silence of the Lambs, The (1991): 4.0\n",
      "Toy Story (1995): 4.0\n",
      "Rosencrantz and Guildenstern Are Dead (1990): 3.0\n",
      "Die Hard (1988): 4.0\n",
      "Browning Version, The (1994): 4.0\n",
      "Dr. Strangelove or: How I Learned to Stop Worrying and Love the Bomb (1963): 4.0\n",
      "Jurassic Park (1993): 4.0\n",
      "Magnificent Seven, The (1954): 5.0\n",
      "When Harry Met Sally... (1989): 4.0\n",
      "M*A*S*H (1970): 5.0\n",
      "Shine (1996): 5.0\n",
      "One Flew Over the Cuckoo's Nest (1975): 5.0\n",
      "On Golden Pond (1981): 4.0\n",
      "Top Gun (1986): 4.0\n",
      "Basketball Diaries, The (1995): 3.0\n",
      "Star Wars (1977): 5.0\n",
      "Platoon (1986): 5.0\n",
      "L.A. Confidential (1997): 4.0\n",
      "Persuasion (1995): 5.0\n",
      "All About Eve (1950): 5.0\n",
      "Breaking the Waves (1996): 4.0\n",
      "Fantasia (1940): 4.0\n",
      "Cold Comfort Farm (1995): 4.0\n",
      "U Turn (1997): 4.0\n",
      "American President, The (1995): 4.0\n",
      "North by Northwest (1959): 5.0\n",
      "Gandhi (1982): 4.0\n",
      "Sabrina (1995): 4.0\n",
      "Game, The (1997): 4.0\n",
      "Desperado (1995): 4.0\n",
      "Devil's Own, The (1997): 4.0\n",
      "Pinocchio (1940): 4.0\n",
      "Raiders of the Lost Ark (1981): 4.0\n",
      "Bound (1996): 4.0\n",
      "12 Angry Men (1957): 5.0\n",
      "Seven (Se7en) (1995): 4.0\n",
      "GoodFellas (1990): 5.0\n",
      "Citizen Kane (1941): 5.0\n",
      "Big Night (1996): 4.0\n",
      "Like Water For Chocolate (Como agua para chocolate) (1992): 3.0\n",
      "Patton (1970): 5.0\n",
      "Being There (1979): 3.0\n",
      "Bronx Tale, A (1993): 4.0\n",
      "Lawrence of Arabia (1962): 4.0\n",
      "Crumb (1994): 4.0\n",
      "Third Man, The (1949): 4.0\n",
      "My Life as a Dog (Mitt liv som hund) (1985): 3.0\n",
      "Paris, Texas (1984): 4.0\n",
      "Man Who Would Be King, The (1975): 4.0\n",
      "Everyone Says I Love You (1996): 3.0\n",
      "Heat (1995): 4.0\n",
      "Casino (1995): 4.0\n",
      "Graduate, The (1967): 5.0\n",
      "Forrest Gump (1994): 4.0\n",
      "Three Colors: Blue (1993): 3.0\n",
      "Sex, Lies, and Videotape (1989): 4.0\n",
      "Cinema Paradiso (1988): 4.0\n",
      "American in Paris, An (1951): 5.0\n",
      "Piano, The (1993): 4.0\n",
      "Wonderful, Horrible Life of Leni Riefenstahl, The (1993): 4.0\n",
      "Psycho (1960): 5.0\n",
      "Cat on a Hot Tin Roof (1958): 4.0\n",
      "Leaving Las Vegas (1995): 4.0\n",
      "Victor/Victoria (1982): 4.0\n",
      "Philadelphia Story, The (1940): 5.0\n",
      "Three Colors: Red (1994): 4.0\n",
      "Raging Bull (1980): 4.0\n",
      "Chinatown (1974): 5.0\n",
      "Strictly Ballroom (1992): 4.0\n",
      "Some Like It Hot (1959): 4.0\n",
      "My Favorite Year (1982): 4.0\n",
      "Miller's Crossing (1990): 4.0\n",
      "Blue Angel, The (Blaue Engel, Der) (1930): 5.0\n",
      "Star Trek IV: The Voyage Home (1986): 4.0\n",
      "Tombstone (1993): 4.0\n",
      "Little Women (1994): 4.0\n",
      "Wild Bunch, The (1969): 5.0\n",
      "Raising Arizona (1987): 4.0\n",
      "Bananas (1971): 4.0\n",
      "Duck Soup (1933): 3.0\n",
      "Apocalypse Now (1979): 5.0\n",
      "Four Weddings and a Funeral (1994): 4.0\n",
      "Taxi Driver (1976): 5.0\n",
      "Miami Rhapsody (1995): 4.0\n",
      "Big Sleep, The (1946): 5.0\n",
      "Fish Called Wanda, A (1988): 4.0\n",
      "Ref, The (1994): 4.0\n",
      "To Wong Foo, Thanks for Everything! Julie Newmar (1995): 4.0\n",
      "Usual Suspects, The (1995): 5.0\n",
      "English Patient, The (1996): 4.0\n",
      "Clockwork Orange, A (1971): 5.0\n",
      "Vertigo (1958): 5.0\n",
      "Gigi (1958): 4.0\n",
      "Enchanted April (1991): 5.0\n",
      "Maltese Falcon, The (1941): 5.0\n",
      "Perfect World, A (1993): 4.0\n",
      "It Happened One Night (1934): 4.0\n",
      "Welcome to the Dollhouse (1995): 4.0\n",
      "Dead Man Walking (1995): 4.0\n",
      "Nikita (La Femme Nikita) (1990): 3.0\n",
      "\n",
      "Top 10 recommendations:\n",
      "Pather Panchali (1955) score 5.7654662938\n",
      "Angel Baby (1995) score 5.52395847996\n",
      "Radioland Murders (1994) score 5.1541414911\n",
      "War Room, The (1993) score 5.1088454206\n",
      "Anna (1996) score 5.09315786193\n",
      "Margaret's Museum (1995) score 5.07302272503\n",
      "Fresh (1994) score 4.98777172106\n",
      "Godfather, The (1972) score 4.94613050304\n",
      "Shawshank Redemption, The (1994) score 4.9424233192\n",
      "Women, The (1939) score 4.91341709785\n"
     ]
    }
   ],
   "source": [
    "print(\"\\nRatings for user ID \" + str(userID) + \":\")\n",
    "userRatings = ratings.filter(lambda l: l[0] == userID)\n",
    "for rating in userRatings.collect():\n",
    "    print (nameDict[int(rating[1])] + \": \" + str(rating[2]))\n",
    "\n",
    "print(\"\\nTop 10 recommendations:\")\n",
    "recommendations = model.recommendProducts(userID, 10)\n",
    "for recommendation in recommendations:\n",
    "    print (nameDict[int(recommendation[1])] + \\\n",
    "        \" score \" + str(recommendation[2]))"
   ]
  },
  {
   "cell_type": "markdown",
   "metadata": {},
   "source": [
    "# DONE"
   ]
  },
  {
   "cell_type": "code",
   "execution_count": null,
   "metadata": {
    "collapsed": true
   },
   "outputs": [],
   "source": []
  }
 ],
 "metadata": {
  "kernelspec": {
   "display_name": "Python2",
   "language": "python",
   "name": "python2"
  },
  "language_info": {
   "codemirror_mode": {
    "name": "ipython",
    "version": 2
   },
   "file_extension": ".py",
   "mimetype": "text/x-python",
   "name": "python",
   "nbconvert_exporter": "python",
   "pygments_lexer": "ipython2",
   "version": "2.7.13"
  }
 },
 "nbformat": 4,
 "nbformat_minor": 2
}
