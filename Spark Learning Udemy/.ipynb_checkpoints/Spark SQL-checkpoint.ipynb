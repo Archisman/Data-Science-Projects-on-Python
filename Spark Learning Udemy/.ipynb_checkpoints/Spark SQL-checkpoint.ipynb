{
 "cells": [
  {
   "cell_type": "code",
   "execution_count": 1,
   "metadata": {
    "collapsed": true
   },
   "outputs": [],
   "source": [
    "from pyspark.sql import SparkSession\n",
    "from pyspark.sql import Row\n",
    "\n",
    "import collections"
   ]
  },
  {
   "cell_type": "code",
   "execution_count": 2,
   "metadata": {
    "collapsed": false
   },
   "outputs": [],
   "source": [
    "# Create a SparkSession \n",
    "spark = SparkSession.builder.appName(\"SparkSQL\").getOrCreate()"
   ]
  },
  {
   "cell_type": "code",
   "execution_count": 3,
   "metadata": {
    "collapsed": true
   },
   "outputs": [],
   "source": [
    "def mapper(line):\n",
    "    fields = line.split(',')\n",
    "    return Row(ID=int(fields[0]), name=str(fields[1].encode(\"utf-8\")), age=int(fields[2]), numFriends=int(fields[3]))\n",
    "\n",
    "lines = spark.sparkContext.textFile(\"/Users/archismanroy/Learning/Data/fakefriends.csv\")\n",
    "people = lines.map(mapper)"
   ]
  },
  {
   "cell_type": "code",
   "execution_count": 9,
   "metadata": {
    "collapsed": false
   },
   "outputs": [
    {
     "name": "stdout",
     "output_type": "stream",
     "text": [
      "Row(ID=21, age=19, name=u'Miles', numFriends=268)\n",
      "Row(ID=52, age=19, name=u'Beverly', numFriends=269)\n",
      "Row(ID=54, age=19, name=u'Brunt', numFriends=5)\n",
      "Row(ID=106, age=18, name=u'Beverly', numFriends=499)\n",
      "Row(ID=115, age=18, name=u'Dukat', numFriends=397)\n",
      "Row(ID=133, age=19, name=u'Quark', numFriends=265)\n",
      "Row(ID=136, age=19, name=u'Will', numFriends=335)\n",
      "Row(ID=225, age=19, name=u'Elim', numFriends=106)\n",
      "Row(ID=304, age=19, name=u'Will', numFriends=404)\n",
      "Row(ID=341, age=18, name=u'Data', numFriends=326)\n",
      "Row(ID=366, age=19, name=u'Keiko', numFriends=119)\n",
      "Row(ID=373, age=19, name=u'Quark', numFriends=272)\n",
      "Row(ID=377, age=18, name=u'Beverly', numFriends=418)\n",
      "Row(ID=404, age=18, name=u'Kasidy', numFriends=24)\n",
      "Row(ID=409, age=19, name=u'Nog', numFriends=267)\n",
      "Row(ID=439, age=18, name=u'Data', numFriends=417)\n",
      "Row(ID=444, age=18, name=u'Keiko', numFriends=472)\n",
      "Row(ID=492, age=19, name=u'Dukat', numFriends=36)\n",
      "Row(ID=494, age=18, name=u'Kasidy', numFriends=194)\n",
      "+---+-----+\n",
      "|age|count|\n",
      "+---+-----+\n",
      "| 18|    8|\n",
      "| 19|   11|\n",
      "| 20|    5|\n",
      "| 21|    8|\n",
      "| 22|    7|\n",
      "| 23|   10|\n",
      "| 24|    5|\n",
      "| 25|   11|\n",
      "| 26|   17|\n",
      "| 27|    8|\n",
      "| 28|   10|\n",
      "| 29|   12|\n",
      "| 30|   11|\n",
      "| 31|    8|\n",
      "| 32|   11|\n",
      "| 33|   12|\n",
      "| 34|    6|\n",
      "| 35|    8|\n",
      "| 36|   10|\n",
      "| 37|    9|\n",
      "+---+-----+\n",
      "only showing top 20 rows\n",
      "\n"
     ]
    }
   ],
   "source": [
    "# Infer the schema, and register the DataFrame as a table.\n",
    "schemaPeople = spark.createDataFrame(people).cache()\n",
    "schemaPeople.createOrReplaceTempView(\"people\")\n",
    "\n",
    "# SQL can be run over DataFrames that have been registered as a table.\n",
    "teenagers = spark.sql(\"SELECT * FROM people WHERE age >= 13 AND age <= 19\")\n",
    "\n",
    "# The results of SQL queries are RDDs and support all the normal RDD operations.\n",
    "for teen in teenagers.collect():\n",
    "    print(teen)\n",
    "\n",
    "# We can also use functions instead of SQL queries:\n",
    "schemaPeople.groupBy(\"age\").count().orderBy(\"age\").show()\n",
    "\n",
    "spark.stop()"
   ]
  },
  {
   "cell_type": "code",
   "execution_count": null,
   "metadata": {
    "collapsed": true
   },
   "outputs": [],
   "source": []
  }
 ],
 "metadata": {
  "kernelspec": {
   "display_name": "Python2",
   "language": "python",
   "name": "python2"
  },
  "language_info": {
   "codemirror_mode": {
    "name": "ipython",
    "version": 2
   },
   "file_extension": ".py",
   "mimetype": "text/x-python",
   "name": "python",
   "nbconvert_exporter": "python",
   "pygments_lexer": "ipython2",
   "version": "2.7.13"
  }
 },
 "nbformat": 4,
 "nbformat_minor": 2
}
